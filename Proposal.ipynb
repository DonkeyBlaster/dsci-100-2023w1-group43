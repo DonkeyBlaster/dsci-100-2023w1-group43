{
 "cells": [
  {
   "cell_type": "markdown",
   "id": "a6013e8e-6b2a-4f5e-a433-340997210c8f",
   "metadata": {},
   "source": [
    "# Title\n",
    "\n",
    "text text remove this"
   ]
  },
  {
   "cell_type": "markdown",
   "id": "7e9ed2a9-6cee-4381-a408-295ccebbfcd5",
   "metadata": {},
   "source": [
    "## Introduction\n",
    "some introduction here (mention aqhi here)"
   ]
  },
  {
   "cell_type": "markdown",
   "id": "8e5d4d98-3457-4932-9114-3f652b31c5bb",
   "metadata": {},
   "source": [
    "## Preliminary exploratory data analysis\n",
    "hey that's me"
   ]
  },
  {
   "cell_type": "code",
   "execution_count": 33,
   "id": "5602087b-a80f-4f2d-983b-7a92edef26e7",
   "metadata": {
    "tags": []
   },
   "outputs": [],
   "source": [
    "# Load required libraries, run before everything else\n",
    "library(tidyverse)"
   ]
  },
  {
   "cell_type": "code",
   "execution_count": 34,
   "id": "f7ec4691-c158-4256-8b12-44b49b0488da",
   "metadata": {},
   "outputs": [
    {
     "name": "stderr",
     "output_type": "stream",
     "text": [
      "\u001b[1mRows: \u001b[22m\u001b[34m35064\u001b[39m \u001b[1mColumns: \u001b[22m\u001b[34m18\u001b[39m\n",
      "\u001b[36m──\u001b[39m \u001b[1mColumn specification\u001b[22m \u001b[36m────────────────────────────────────────────────────────\u001b[39m\n",
      "\u001b[1mDelimiter:\u001b[22m \",\"\n",
      "\u001b[31mchr\u001b[39m  (2): wd, station\n",
      "\u001b[32mdbl\u001b[39m (16): No, year, month, day, hour, PM2.5, PM10, SO2, NO2, CO, O3, TEMP, P...\n",
      "\n",
      "\u001b[36mℹ\u001b[39m Use `spec()` to retrieve the full column specification for this data.\n",
      "\u001b[36mℹ\u001b[39m Specify the column types or set `show_col_types = FALSE` to quiet this message.\n"
     ]
    },
    {
     "data": {
      "text/html": [
       "<table class=\"dataframe\">\n",
       "<caption>A tibble: 4 × 17</caption>\n",
       "<thead>\n",
       "\t<tr><th scope=col>No</th><th scope=col>year</th><th scope=col>month</th><th scope=col>day</th><th scope=col>hour</th><th scope=col>PM2.5</th><th scope=col>PM10</th><th scope=col>SO2</th><th scope=col>NO2</th><th scope=col>CO</th><th scope=col>O3</th><th scope=col>TEMP</th><th scope=col>PRES</th><th scope=col>DEWP</th><th scope=col>RAIN</th><th scope=col>wd</th><th scope=col>WSPM</th></tr>\n",
       "\t<tr><th scope=col>&lt;dbl&gt;</th><th scope=col>&lt;dbl&gt;</th><th scope=col>&lt;dbl&gt;</th><th scope=col>&lt;dbl&gt;</th><th scope=col>&lt;dbl&gt;</th><th scope=col>&lt;dbl&gt;</th><th scope=col>&lt;dbl&gt;</th><th scope=col>&lt;dbl&gt;</th><th scope=col>&lt;dbl&gt;</th><th scope=col>&lt;dbl&gt;</th><th scope=col>&lt;dbl&gt;</th><th scope=col>&lt;dbl&gt;</th><th scope=col>&lt;dbl&gt;</th><th scope=col>&lt;dbl&gt;</th><th scope=col>&lt;dbl&gt;</th><th scope=col>&lt;chr&gt;</th><th scope=col>&lt;dbl&gt;</th></tr>\n",
       "</thead>\n",
       "<tbody>\n",
       "\t<tr><td>1</td><td>2013</td><td>3</td><td>1</td><td>0</td><td>4</td><td>4</td><td> 4</td><td> 7</td><td>300</td><td>77</td><td>-0.7</td><td>1023.0</td><td>-18.8</td><td>0</td><td>NNW</td><td>4.4</td></tr>\n",
       "\t<tr><td>2</td><td>2013</td><td>3</td><td>1</td><td>1</td><td>8</td><td>8</td><td> 4</td><td> 7</td><td>300</td><td>77</td><td>-1.1</td><td>1023.2</td><td>-18.2</td><td>0</td><td>N  </td><td>4.7</td></tr>\n",
       "\t<tr><td>3</td><td>2013</td><td>3</td><td>1</td><td>2</td><td>7</td><td>7</td><td> 5</td><td>10</td><td>300</td><td>73</td><td>-1.1</td><td>1023.5</td><td>-18.2</td><td>0</td><td>NNW</td><td>5.6</td></tr>\n",
       "\t<tr><td>4</td><td>2013</td><td>3</td><td>1</td><td>3</td><td>6</td><td>6</td><td>11</td><td>11</td><td>300</td><td>72</td><td>-1.4</td><td>1024.5</td><td>-19.4</td><td>0</td><td>NW </td><td>3.1</td></tr>\n",
       "</tbody>\n",
       "</table>\n"
      ],
      "text/latex": [
       "A tibble: 4 × 17\n",
       "\\begin{tabular}{lllllllllllllllll}\n",
       " No & year & month & day & hour & PM2.5 & PM10 & SO2 & NO2 & CO & O3 & TEMP & PRES & DEWP & RAIN & wd & WSPM\\\\\n",
       " <dbl> & <dbl> & <dbl> & <dbl> & <dbl> & <dbl> & <dbl> & <dbl> & <dbl> & <dbl> & <dbl> & <dbl> & <dbl> & <dbl> & <dbl> & <chr> & <dbl>\\\\\n",
       "\\hline\n",
       "\t 1 & 2013 & 3 & 1 & 0 & 4 & 4 &  4 &  7 & 300 & 77 & -0.7 & 1023.0 & -18.8 & 0 & NNW & 4.4\\\\\n",
       "\t 2 & 2013 & 3 & 1 & 1 & 8 & 8 &  4 &  7 & 300 & 77 & -1.1 & 1023.2 & -18.2 & 0 & N   & 4.7\\\\\n",
       "\t 3 & 2013 & 3 & 1 & 2 & 7 & 7 &  5 & 10 & 300 & 73 & -1.1 & 1023.5 & -18.2 & 0 & NNW & 5.6\\\\\n",
       "\t 4 & 2013 & 3 & 1 & 3 & 6 & 6 & 11 & 11 & 300 & 72 & -1.4 & 1024.5 & -19.4 & 0 & NW  & 3.1\\\\\n",
       "\\end{tabular}\n"
      ],
      "text/markdown": [
       "\n",
       "A tibble: 4 × 17\n",
       "\n",
       "| No &lt;dbl&gt; | year &lt;dbl&gt; | month &lt;dbl&gt; | day &lt;dbl&gt; | hour &lt;dbl&gt; | PM2.5 &lt;dbl&gt; | PM10 &lt;dbl&gt; | SO2 &lt;dbl&gt; | NO2 &lt;dbl&gt; | CO &lt;dbl&gt; | O3 &lt;dbl&gt; | TEMP &lt;dbl&gt; | PRES &lt;dbl&gt; | DEWP &lt;dbl&gt; | RAIN &lt;dbl&gt; | wd &lt;chr&gt; | WSPM &lt;dbl&gt; |\n",
       "|---|---|---|---|---|---|---|---|---|---|---|---|---|---|---|---|---|\n",
       "| 1 | 2013 | 3 | 1 | 0 | 4 | 4 |  4 |  7 | 300 | 77 | -0.7 | 1023.0 | -18.8 | 0 | NNW | 4.4 |\n",
       "| 2 | 2013 | 3 | 1 | 1 | 8 | 8 |  4 |  7 | 300 | 77 | -1.1 | 1023.2 | -18.2 | 0 | N   | 4.7 |\n",
       "| 3 | 2013 | 3 | 1 | 2 | 7 | 7 |  5 | 10 | 300 | 73 | -1.1 | 1023.5 | -18.2 | 0 | NNW | 5.6 |\n",
       "| 4 | 2013 | 3 | 1 | 3 | 6 | 6 | 11 | 11 | 300 | 72 | -1.4 | 1024.5 | -19.4 | 0 | NW  | 3.1 |\n",
       "\n"
      ],
      "text/plain": [
       "  No year month day hour PM2.5 PM10 SO2 NO2 CO  O3 TEMP PRES   DEWP  RAIN wd \n",
       "1 1  2013 3     1   0    4     4     4   7  300 77 -0.7 1023.0 -18.8 0    NNW\n",
       "2 2  2013 3     1   1    8     8     4   7  300 77 -1.1 1023.2 -18.2 0    N  \n",
       "3 3  2013 3     1   2    7     7     5  10  300 73 -1.1 1023.5 -18.2 0    NNW\n",
       "4 4  2013 3     1   3    6     6    11  11  300 72 -1.4 1024.5 -19.4 0    NW \n",
       "  WSPM\n",
       "1 4.4 \n",
       "2 4.7 \n",
       "3 5.6 \n",
       "4 3.1 "
      ]
     },
     "metadata": {},
     "output_type": "display_data"
    },
    {
     "data": {
      "text/html": [
       "<table class=\"dataframe\">\n",
       "<caption>A tibble: 4 × 17</caption>\n",
       "<thead>\n",
       "\t<tr><th scope=col>No</th><th scope=col>year</th><th scope=col>month</th><th scope=col>day</th><th scope=col>hour</th><th scope=col>PM2.5</th><th scope=col>PM10</th><th scope=col>SO2</th><th scope=col>NO2</th><th scope=col>CO</th><th scope=col>O3</th><th scope=col>TEMP</th><th scope=col>PRES</th><th scope=col>DEWP</th><th scope=col>RAIN</th><th scope=col>wd</th><th scope=col>WSPM</th></tr>\n",
       "\t<tr><th scope=col>&lt;dbl&gt;</th><th scope=col>&lt;dbl&gt;</th><th scope=col>&lt;dbl&gt;</th><th scope=col>&lt;dbl&gt;</th><th scope=col>&lt;dbl&gt;</th><th scope=col>&lt;dbl&gt;</th><th scope=col>&lt;dbl&gt;</th><th scope=col>&lt;dbl&gt;</th><th scope=col>&lt;dbl&gt;</th><th scope=col>&lt;dbl&gt;</th><th scope=col>&lt;dbl&gt;</th><th scope=col>&lt;dbl&gt;</th><th scope=col>&lt;dbl&gt;</th><th scope=col>&lt;dbl&gt;</th><th scope=col>&lt;dbl&gt;</th><th scope=col>&lt;chr&gt;</th><th scope=col>&lt;dbl&gt;</th></tr>\n",
       "</thead>\n",
       "<tbody>\n",
       "\t<tr><td>35061</td><td>2017</td><td>2</td><td>28</td><td>20</td><td>13</td><td>37</td><td> 7</td><td>45</td><td>500</td><td>81</td><td>11.6</td><td>1013.6</td><td>-15.1</td><td>0</td><td>WNW</td><td>0.9</td></tr>\n",
       "\t<tr><td>35062</td><td>2017</td><td>2</td><td>28</td><td>21</td><td>16</td><td>37</td><td>10</td><td>66</td><td>700</td><td>58</td><td>10.8</td><td>1014.2</td><td>-13.3</td><td>0</td><td>NW </td><td>1.1</td></tr>\n",
       "\t<tr><td>35063</td><td>2017</td><td>2</td><td>28</td><td>22</td><td>21</td><td>44</td><td>12</td><td>87</td><td>700</td><td>35</td><td>10.5</td><td>1014.4</td><td>-12.9</td><td>0</td><td>NNW</td><td>1.2</td></tr>\n",
       "\t<tr><td>35064</td><td>2017</td><td>2</td><td>28</td><td>23</td><td>19</td><td>31</td><td>10</td><td>79</td><td>600</td><td>42</td><td> 8.6</td><td>1014.1</td><td>-15.9</td><td>0</td><td>NNE</td><td>1.3</td></tr>\n",
       "</tbody>\n",
       "</table>\n"
      ],
      "text/latex": [
       "A tibble: 4 × 17\n",
       "\\begin{tabular}{lllllllllllllllll}\n",
       " No & year & month & day & hour & PM2.5 & PM10 & SO2 & NO2 & CO & O3 & TEMP & PRES & DEWP & RAIN & wd & WSPM\\\\\n",
       " <dbl> & <dbl> & <dbl> & <dbl> & <dbl> & <dbl> & <dbl> & <dbl> & <dbl> & <dbl> & <dbl> & <dbl> & <dbl> & <dbl> & <dbl> & <chr> & <dbl>\\\\\n",
       "\\hline\n",
       "\t 35061 & 2017 & 2 & 28 & 20 & 13 & 37 &  7 & 45 & 500 & 81 & 11.6 & 1013.6 & -15.1 & 0 & WNW & 0.9\\\\\n",
       "\t 35062 & 2017 & 2 & 28 & 21 & 16 & 37 & 10 & 66 & 700 & 58 & 10.8 & 1014.2 & -13.3 & 0 & NW  & 1.1\\\\\n",
       "\t 35063 & 2017 & 2 & 28 & 22 & 21 & 44 & 12 & 87 & 700 & 35 & 10.5 & 1014.4 & -12.9 & 0 & NNW & 1.2\\\\\n",
       "\t 35064 & 2017 & 2 & 28 & 23 & 19 & 31 & 10 & 79 & 600 & 42 &  8.6 & 1014.1 & -15.9 & 0 & NNE & 1.3\\\\\n",
       "\\end{tabular}\n"
      ],
      "text/markdown": [
       "\n",
       "A tibble: 4 × 17\n",
       "\n",
       "| No &lt;dbl&gt; | year &lt;dbl&gt; | month &lt;dbl&gt; | day &lt;dbl&gt; | hour &lt;dbl&gt; | PM2.5 &lt;dbl&gt; | PM10 &lt;dbl&gt; | SO2 &lt;dbl&gt; | NO2 &lt;dbl&gt; | CO &lt;dbl&gt; | O3 &lt;dbl&gt; | TEMP &lt;dbl&gt; | PRES &lt;dbl&gt; | DEWP &lt;dbl&gt; | RAIN &lt;dbl&gt; | wd &lt;chr&gt; | WSPM &lt;dbl&gt; |\n",
       "|---|---|---|---|---|---|---|---|---|---|---|---|---|---|---|---|---|\n",
       "| 35061 | 2017 | 2 | 28 | 20 | 13 | 37 |  7 | 45 | 500 | 81 | 11.6 | 1013.6 | -15.1 | 0 | WNW | 0.9 |\n",
       "| 35062 | 2017 | 2 | 28 | 21 | 16 | 37 | 10 | 66 | 700 | 58 | 10.8 | 1014.2 | -13.3 | 0 | NW  | 1.1 |\n",
       "| 35063 | 2017 | 2 | 28 | 22 | 21 | 44 | 12 | 87 | 700 | 35 | 10.5 | 1014.4 | -12.9 | 0 | NNW | 1.2 |\n",
       "| 35064 | 2017 | 2 | 28 | 23 | 19 | 31 | 10 | 79 | 600 | 42 |  8.6 | 1014.1 | -15.9 | 0 | NNE | 1.3 |\n",
       "\n"
      ],
      "text/plain": [
       "  No    year month day hour PM2.5 PM10 SO2 NO2 CO  O3 TEMP PRES   DEWP  RAIN\n",
       "1 35061 2017 2     28  20   13    37    7  45  500 81 11.6 1013.6 -15.1 0   \n",
       "2 35062 2017 2     28  21   16    37   10  66  700 58 10.8 1014.2 -13.3 0   \n",
       "3 35063 2017 2     28  22   21    44   12  87  700 35 10.5 1014.4 -12.9 0   \n",
       "4 35064 2017 2     28  23   19    31   10  79  600 42  8.6 1014.1 -15.9 0   \n",
       "  wd  WSPM\n",
       "1 WNW 0.9 \n",
       "2 NW  1.1 \n",
       "3 NNW 1.2 \n",
       "4 NNE 1.3 "
      ]
     },
     "metadata": {},
     "output_type": "display_data"
    }
   ],
   "source": [
    "# Get weather + pollution data for the Aotizhongxin station in Beijing\n",
    "download.file(\"https://raw.githubusercontent.com/DonkeyBlaster/dsci-100-2023w1-group43/main/PRSA_Data_Aotizhongxin_20130301-20170228.csv\", \"Aotizhongxin_data.csv\")\n",
    "data <- read_csv(\"Aotizhongxin_data.csv\") |>\n",
    "    select(-station)  # This just says \"Aotizhongxin\", no need to keep it around\n",
    "head(data, 4)\n",
    "tail(data, 4)"
   ]
  },
  {
   "cell_type": "markdown",
   "id": "401a7eea-08d9-4b3d-a2f4-9b0bb1f4dd6c",
   "metadata": {},
   "source": [
    "As shown above by the preview of the data, there are observations for each hour from the start of March 2013 to the end of February  2017. The \"station\" column was dropped as it only said \"Aotizhongxin\". As previously mentioned, we will be calculating AQHI for the reporting stations, which has the formula [formula goes here]. Therefore, we can drop the irrelevant pollutant columns. Additionally, we can also drop the \"No\" column, as it is just a continuously incrementing counter."
   ]
  },
  {
   "cell_type": "code",
   "execution_count": 35,
   "id": "343d7fe7-d0c8-4e1f-93d1-b0d55c0cbb83",
   "metadata": {
    "tags": []
   },
   "outputs": [
    {
     "data": {
      "text/html": [
       "<table class=\"dataframe\">\n",
       "<caption>A tibble: 4 × 13</caption>\n",
       "<thead>\n",
       "\t<tr><th scope=col>year</th><th scope=col>month</th><th scope=col>day</th><th scope=col>hour</th><th scope=col>PM2.5</th><th scope=col>NO2</th><th scope=col>O3</th><th scope=col>TEMP</th><th scope=col>PRES</th><th scope=col>DEWP</th><th scope=col>RAIN</th><th scope=col>wd</th><th scope=col>WSPM</th></tr>\n",
       "\t<tr><th scope=col>&lt;dbl&gt;</th><th scope=col>&lt;dbl&gt;</th><th scope=col>&lt;dbl&gt;</th><th scope=col>&lt;dbl&gt;</th><th scope=col>&lt;dbl&gt;</th><th scope=col>&lt;dbl&gt;</th><th scope=col>&lt;dbl&gt;</th><th scope=col>&lt;dbl&gt;</th><th scope=col>&lt;dbl&gt;</th><th scope=col>&lt;dbl&gt;</th><th scope=col>&lt;dbl&gt;</th><th scope=col>&lt;chr&gt;</th><th scope=col>&lt;dbl&gt;</th></tr>\n",
       "</thead>\n",
       "<tbody>\n",
       "\t<tr><td>2013</td><td>3</td><td>1</td><td>0</td><td>4</td><td> 7</td><td>77</td><td>-0.7</td><td>1023.0</td><td>-18.8</td><td>0</td><td>NNW</td><td>4.4</td></tr>\n",
       "\t<tr><td>2013</td><td>3</td><td>1</td><td>1</td><td>8</td><td> 7</td><td>77</td><td>-1.1</td><td>1023.2</td><td>-18.2</td><td>0</td><td>N  </td><td>4.7</td></tr>\n",
       "\t<tr><td>2013</td><td>3</td><td>1</td><td>2</td><td>7</td><td>10</td><td>73</td><td>-1.1</td><td>1023.5</td><td>-18.2</td><td>0</td><td>NNW</td><td>5.6</td></tr>\n",
       "\t<tr><td>2013</td><td>3</td><td>1</td><td>3</td><td>6</td><td>11</td><td>72</td><td>-1.4</td><td>1024.5</td><td>-19.4</td><td>0</td><td>NW </td><td>3.1</td></tr>\n",
       "</tbody>\n",
       "</table>\n"
      ],
      "text/latex": [
       "A tibble: 4 × 13\n",
       "\\begin{tabular}{lllllllllllll}\n",
       " year & month & day & hour & PM2.5 & NO2 & O3 & TEMP & PRES & DEWP & RAIN & wd & WSPM\\\\\n",
       " <dbl> & <dbl> & <dbl> & <dbl> & <dbl> & <dbl> & <dbl> & <dbl> & <dbl> & <dbl> & <dbl> & <chr> & <dbl>\\\\\n",
       "\\hline\n",
       "\t 2013 & 3 & 1 & 0 & 4 &  7 & 77 & -0.7 & 1023.0 & -18.8 & 0 & NNW & 4.4\\\\\n",
       "\t 2013 & 3 & 1 & 1 & 8 &  7 & 77 & -1.1 & 1023.2 & -18.2 & 0 & N   & 4.7\\\\\n",
       "\t 2013 & 3 & 1 & 2 & 7 & 10 & 73 & -1.1 & 1023.5 & -18.2 & 0 & NNW & 5.6\\\\\n",
       "\t 2013 & 3 & 1 & 3 & 6 & 11 & 72 & -1.4 & 1024.5 & -19.4 & 0 & NW  & 3.1\\\\\n",
       "\\end{tabular}\n"
      ],
      "text/markdown": [
       "\n",
       "A tibble: 4 × 13\n",
       "\n",
       "| year &lt;dbl&gt; | month &lt;dbl&gt; | day &lt;dbl&gt; | hour &lt;dbl&gt; | PM2.5 &lt;dbl&gt; | NO2 &lt;dbl&gt; | O3 &lt;dbl&gt; | TEMP &lt;dbl&gt; | PRES &lt;dbl&gt; | DEWP &lt;dbl&gt; | RAIN &lt;dbl&gt; | wd &lt;chr&gt; | WSPM &lt;dbl&gt; |\n",
       "|---|---|---|---|---|---|---|---|---|---|---|---|---|\n",
       "| 2013 | 3 | 1 | 0 | 4 |  7 | 77 | -0.7 | 1023.0 | -18.8 | 0 | NNW | 4.4 |\n",
       "| 2013 | 3 | 1 | 1 | 8 |  7 | 77 | -1.1 | 1023.2 | -18.2 | 0 | N   | 4.7 |\n",
       "| 2013 | 3 | 1 | 2 | 7 | 10 | 73 | -1.1 | 1023.5 | -18.2 | 0 | NNW | 5.6 |\n",
       "| 2013 | 3 | 1 | 3 | 6 | 11 | 72 | -1.4 | 1024.5 | -19.4 | 0 | NW  | 3.1 |\n",
       "\n"
      ],
      "text/plain": [
       "  year month day hour PM2.5 NO2 O3 TEMP PRES   DEWP  RAIN wd  WSPM\n",
       "1 2013 3     1   0    4      7  77 -0.7 1023.0 -18.8 0    NNW 4.4 \n",
       "2 2013 3     1   1    8      7  77 -1.1 1023.2 -18.2 0    N   4.7 \n",
       "3 2013 3     1   2    7     10  73 -1.1 1023.5 -18.2 0    NNW 5.6 \n",
       "4 2013 3     1   3    6     11  72 -1.4 1024.5 -19.4 0    NW  3.1 "
      ]
     },
     "metadata": {},
     "output_type": "display_data"
    },
    {
     "data": {
      "text/html": [
       "<table class=\"dataframe\">\n",
       "<caption>A tibble: 4 × 13</caption>\n",
       "<thead>\n",
       "\t<tr><th scope=col>year</th><th scope=col>month</th><th scope=col>day</th><th scope=col>hour</th><th scope=col>PM2.5</th><th scope=col>NO2</th><th scope=col>O3</th><th scope=col>TEMP</th><th scope=col>PRES</th><th scope=col>DEWP</th><th scope=col>RAIN</th><th scope=col>wd</th><th scope=col>WSPM</th></tr>\n",
       "\t<tr><th scope=col>&lt;dbl&gt;</th><th scope=col>&lt;dbl&gt;</th><th scope=col>&lt;dbl&gt;</th><th scope=col>&lt;dbl&gt;</th><th scope=col>&lt;dbl&gt;</th><th scope=col>&lt;dbl&gt;</th><th scope=col>&lt;dbl&gt;</th><th scope=col>&lt;dbl&gt;</th><th scope=col>&lt;dbl&gt;</th><th scope=col>&lt;dbl&gt;</th><th scope=col>&lt;dbl&gt;</th><th scope=col>&lt;chr&gt;</th><th scope=col>&lt;dbl&gt;</th></tr>\n",
       "</thead>\n",
       "<tbody>\n",
       "\t<tr><td>2017</td><td>2</td><td>28</td><td>20</td><td>13</td><td>45</td><td>81</td><td>11.6</td><td>1013.6</td><td>-15.1</td><td>0</td><td>WNW</td><td>0.9</td></tr>\n",
       "\t<tr><td>2017</td><td>2</td><td>28</td><td>21</td><td>16</td><td>66</td><td>58</td><td>10.8</td><td>1014.2</td><td>-13.3</td><td>0</td><td>NW </td><td>1.1</td></tr>\n",
       "\t<tr><td>2017</td><td>2</td><td>28</td><td>22</td><td>21</td><td>87</td><td>35</td><td>10.5</td><td>1014.4</td><td>-12.9</td><td>0</td><td>NNW</td><td>1.2</td></tr>\n",
       "\t<tr><td>2017</td><td>2</td><td>28</td><td>23</td><td>19</td><td>79</td><td>42</td><td> 8.6</td><td>1014.1</td><td>-15.9</td><td>0</td><td>NNE</td><td>1.3</td></tr>\n",
       "</tbody>\n",
       "</table>\n"
      ],
      "text/latex": [
       "A tibble: 4 × 13\n",
       "\\begin{tabular}{lllllllllllll}\n",
       " year & month & day & hour & PM2.5 & NO2 & O3 & TEMP & PRES & DEWP & RAIN & wd & WSPM\\\\\n",
       " <dbl> & <dbl> & <dbl> & <dbl> & <dbl> & <dbl> & <dbl> & <dbl> & <dbl> & <dbl> & <dbl> & <chr> & <dbl>\\\\\n",
       "\\hline\n",
       "\t 2017 & 2 & 28 & 20 & 13 & 45 & 81 & 11.6 & 1013.6 & -15.1 & 0 & WNW & 0.9\\\\\n",
       "\t 2017 & 2 & 28 & 21 & 16 & 66 & 58 & 10.8 & 1014.2 & -13.3 & 0 & NW  & 1.1\\\\\n",
       "\t 2017 & 2 & 28 & 22 & 21 & 87 & 35 & 10.5 & 1014.4 & -12.9 & 0 & NNW & 1.2\\\\\n",
       "\t 2017 & 2 & 28 & 23 & 19 & 79 & 42 &  8.6 & 1014.1 & -15.9 & 0 & NNE & 1.3\\\\\n",
       "\\end{tabular}\n"
      ],
      "text/markdown": [
       "\n",
       "A tibble: 4 × 13\n",
       "\n",
       "| year &lt;dbl&gt; | month &lt;dbl&gt; | day &lt;dbl&gt; | hour &lt;dbl&gt; | PM2.5 &lt;dbl&gt; | NO2 &lt;dbl&gt; | O3 &lt;dbl&gt; | TEMP &lt;dbl&gt; | PRES &lt;dbl&gt; | DEWP &lt;dbl&gt; | RAIN &lt;dbl&gt; | wd &lt;chr&gt; | WSPM &lt;dbl&gt; |\n",
       "|---|---|---|---|---|---|---|---|---|---|---|---|---|\n",
       "| 2017 | 2 | 28 | 20 | 13 | 45 | 81 | 11.6 | 1013.6 | -15.1 | 0 | WNW | 0.9 |\n",
       "| 2017 | 2 | 28 | 21 | 16 | 66 | 58 | 10.8 | 1014.2 | -13.3 | 0 | NW  | 1.1 |\n",
       "| 2017 | 2 | 28 | 22 | 21 | 87 | 35 | 10.5 | 1014.4 | -12.9 | 0 | NNW | 1.2 |\n",
       "| 2017 | 2 | 28 | 23 | 19 | 79 | 42 |  8.6 | 1014.1 | -15.9 | 0 | NNE | 1.3 |\n",
       "\n"
      ],
      "text/plain": [
       "  year month day hour PM2.5 NO2 O3 TEMP PRES   DEWP  RAIN wd  WSPM\n",
       "1 2017 2     28  20   13    45  81 11.6 1013.6 -15.1 0    WNW 0.9 \n",
       "2 2017 2     28  21   16    66  58 10.8 1014.2 -13.3 0    NW  1.1 \n",
       "3 2017 2     28  22   21    87  35 10.5 1014.4 -12.9 0    NNW 1.2 \n",
       "4 2017 2     28  23   19    79  42  8.6 1014.1 -15.9 0    NNE 1.3 "
      ]
     },
     "metadata": {},
     "output_type": "display_data"
    }
   ],
   "source": [
    "data <- data |>\n",
    "    select(-PM10, -SO2, -CO, -No)\n",
    "head(data, 4)\n",
    "tail(data, 4)"
   ]
  },
  {
   "cell_type": "code",
   "execution_count": null,
   "id": "b4df4429-f853-4a70-8044-fba164f3a767",
   "metadata": {},
   "outputs": [],
   "source": []
  }
 ],
 "metadata": {
  "kernelspec": {
   "display_name": "R",
   "language": "R",
   "name": "ir"
  },
  "language_info": {
   "codemirror_mode": "r",
   "file_extension": ".r",
   "mimetype": "text/x-r-source",
   "name": "R",
   "pygments_lexer": "r",
   "version": "4.2.2"
  },
  "widgets": {
   "application/vnd.jupyter.widget-state+json": {
    "state": {},
    "version_major": 2,
    "version_minor": 0
   }
  }
 },
 "nbformat": 4,
 "nbformat_minor": 5
}
