{
 "cells": [
  {
   "cell_type": "markdown",
   "id": "a6013e8e-6b2a-4f5e-a433-340997210c8f",
   "metadata": {},
   "source": [
    "# Title\n",
    "\n",
    "text text remove this"
   ]
  },
  {
   "cell_type": "markdown",
   "id": "7e9ed2a9-6cee-4381-a408-295ccebbfcd5",
   "metadata": {},
   "source": [
    "## Introduction\n",
    "some introduction here (mention aqhi here)"
   ]
  },
  {
   "cell_type": "markdown",
   "id": "8e5d4d98-3457-4932-9114-3f652b31c5bb",
   "metadata": {},
   "source": [
    "## Preliminary exploratory data analysis"
   ]
  },
  {
   "cell_type": "code",
   "execution_count": 1,
   "id": "5602087b-a80f-4f2d-983b-7a92edef26e7",
   "metadata": {
    "tags": []
   },
   "outputs": [
    {
     "name": "stderr",
     "output_type": "stream",
     "text": [
      "── \u001b[1mAttaching packages\u001b[22m ─────────────────────────────────────── tidyverse 1.3.2 ──\n",
      "\u001b[32m✔\u001b[39m \u001b[34mggplot2\u001b[39m 3.4.2     \u001b[32m✔\u001b[39m \u001b[34mpurrr  \u001b[39m 1.0.1\n",
      "\u001b[32m✔\u001b[39m \u001b[34mtibble \u001b[39m 3.2.1     \u001b[32m✔\u001b[39m \u001b[34mdplyr  \u001b[39m 1.1.1\n",
      "\u001b[32m✔\u001b[39m \u001b[34mtidyr  \u001b[39m 1.3.0     \u001b[32m✔\u001b[39m \u001b[34mstringr\u001b[39m 1.5.0\n",
      "\u001b[32m✔\u001b[39m \u001b[34mreadr  \u001b[39m 2.1.3     \u001b[32m✔\u001b[39m \u001b[34mforcats\u001b[39m 0.5.2\n",
      "── \u001b[1mConflicts\u001b[22m ────────────────────────────────────────── tidyverse_conflicts() ──\n",
      "\u001b[31m✖\u001b[39m \u001b[34mdplyr\u001b[39m::\u001b[32mfilter()\u001b[39m masks \u001b[34mstats\u001b[39m::filter()\n",
      "\u001b[31m✖\u001b[39m \u001b[34mdplyr\u001b[39m::\u001b[32mlag()\u001b[39m    masks \u001b[34mstats\u001b[39m::lag()\n",
      "── \u001b[1mAttaching packages\u001b[22m ────────────────────────────────────── tidymodels 1.0.0 ──\n",
      "\n",
      "\u001b[32m✔\u001b[39m \u001b[34mbroom       \u001b[39m 1.0.2     \u001b[32m✔\u001b[39m \u001b[34mrsample     \u001b[39m 1.1.1\n",
      "\u001b[32m✔\u001b[39m \u001b[34mdials       \u001b[39m 1.1.0     \u001b[32m✔\u001b[39m \u001b[34mtune        \u001b[39m 1.0.1\n",
      "\u001b[32m✔\u001b[39m \u001b[34minfer       \u001b[39m 1.0.4     \u001b[32m✔\u001b[39m \u001b[34mworkflows   \u001b[39m 1.1.2\n",
      "\u001b[32m✔\u001b[39m \u001b[34mmodeldata   \u001b[39m 1.0.1     \u001b[32m✔\u001b[39m \u001b[34mworkflowsets\u001b[39m 1.0.0\n",
      "\u001b[32m✔\u001b[39m \u001b[34mparsnip     \u001b[39m 1.0.3     \u001b[32m✔\u001b[39m \u001b[34myardstick   \u001b[39m 1.1.0\n",
      "\u001b[32m✔\u001b[39m \u001b[34mrecipes     \u001b[39m 1.0.4     \n",
      "\n",
      "── \u001b[1mConflicts\u001b[22m ───────────────────────────────────────── tidymodels_conflicts() ──\n",
      "\u001b[31m✖\u001b[39m \u001b[34mscales\u001b[39m::\u001b[32mdiscard()\u001b[39m masks \u001b[34mpurrr\u001b[39m::discard()\n",
      "\u001b[31m✖\u001b[39m \u001b[34mdplyr\u001b[39m::\u001b[32mfilter()\u001b[39m   masks \u001b[34mstats\u001b[39m::filter()\n",
      "\u001b[31m✖\u001b[39m \u001b[34mrecipes\u001b[39m::\u001b[32mfixed()\u001b[39m  masks \u001b[34mstringr\u001b[39m::fixed()\n",
      "\u001b[31m✖\u001b[39m \u001b[34mdplyr\u001b[39m::\u001b[32mlag()\u001b[39m      masks \u001b[34mstats\u001b[39m::lag()\n",
      "\u001b[31m✖\u001b[39m \u001b[34myardstick\u001b[39m::\u001b[32mspec()\u001b[39m masks \u001b[34mreadr\u001b[39m::spec()\n",
      "\u001b[31m✖\u001b[39m \u001b[34mrecipes\u001b[39m::\u001b[32mstep()\u001b[39m   masks \u001b[34mstats\u001b[39m::step()\n",
      "\u001b[34m•\u001b[39m Search for functions across packages at \u001b[32mhttps://www.tidymodels.org/find/\u001b[39m\n",
      "\n",
      "Updating HTML index of packages in '.Library'\n",
      "\n",
      "Making 'packages.html' ...\n",
      " done\n",
      "\n",
      "\n",
      "Attaching package: ‘zoo’\n",
      "\n",
      "\n",
      "The following objects are masked from ‘package:base’:\n",
      "\n",
      "    as.Date, as.Date.numeric\n",
      "\n",
      "\n"
     ]
    }
   ],
   "source": [
    "# Load libraries, run before everything else\n",
    "library(tidyverse)\n",
    "library(repr)\n",
    "library(tidymodels)\n",
    "install.packages(\"con2aqi\")\n",
    "library(con2aqi)\n",
    "library(zoo) # for moving averages"
   ]
  },
  {
   "cell_type": "code",
   "execution_count": 2,
   "id": "f7ec4691-c158-4256-8b12-44b49b0488da",
   "metadata": {},
   "outputs": [
    {
     "name": "stderr",
     "output_type": "stream",
     "text": [
      "\u001b[1mRows: \u001b[22m\u001b[34m35064\u001b[39m \u001b[1mColumns: \u001b[22m\u001b[34m18\u001b[39m\n",
      "\u001b[36m──\u001b[39m \u001b[1mColumn specification\u001b[22m \u001b[36m────────────────────────────────────────────────────────\u001b[39m\n",
      "\u001b[1mDelimiter:\u001b[22m \",\"\n",
      "\u001b[31mchr\u001b[39m  (2): wd, station\n",
      "\u001b[32mdbl\u001b[39m (16): No, year, month, day, hour, PM2.5, PM10, SO2, NO2, CO, O3, TEMP, P...\n",
      "\n",
      "\u001b[36mℹ\u001b[39m Use `spec()` to retrieve the full column specification for this data.\n",
      "\u001b[36mℹ\u001b[39m Specify the column types or set `show_col_types = FALSE` to quiet this message.\n"
     ]
    },
    {
     "data": {
      "text/html": [
       "<table class=\"dataframe\">\n",
       "<caption>A tibble: 3 × 16</caption>\n",
       "<thead>\n",
       "\t<tr><th scope=col>year</th><th scope=col>month</th><th scope=col>day</th><th scope=col>hour</th><th scope=col>PM2.5</th><th scope=col>PM10</th><th scope=col>SO2</th><th scope=col>NO2</th><th scope=col>CO</th><th scope=col>O3</th><th scope=col>TEMP</th><th scope=col>PRES</th><th scope=col>DEWP</th><th scope=col>RAIN</th><th scope=col>wd</th><th scope=col>WSPM</th></tr>\n",
       "\t<tr><th scope=col>&lt;dbl&gt;</th><th scope=col>&lt;dbl&gt;</th><th scope=col>&lt;dbl&gt;</th><th scope=col>&lt;dbl&gt;</th><th scope=col>&lt;dbl&gt;</th><th scope=col>&lt;dbl&gt;</th><th scope=col>&lt;dbl&gt;</th><th scope=col>&lt;dbl&gt;</th><th scope=col>&lt;dbl&gt;</th><th scope=col>&lt;dbl&gt;</th><th scope=col>&lt;dbl&gt;</th><th scope=col>&lt;dbl&gt;</th><th scope=col>&lt;dbl&gt;</th><th scope=col>&lt;dbl&gt;</th><th scope=col>&lt;chr&gt;</th><th scope=col>&lt;dbl&gt;</th></tr>\n",
       "</thead>\n",
       "<tbody>\n",
       "\t<tr><td>2013</td><td>3</td><td>1</td><td>0</td><td>4</td><td>4</td><td>4</td><td> 7</td><td>300</td><td>77</td><td>-0.7</td><td>1023.0</td><td>-18.8</td><td>0</td><td>NNW</td><td>4.4</td></tr>\n",
       "\t<tr><td>2013</td><td>3</td><td>1</td><td>1</td><td>8</td><td>8</td><td>4</td><td> 7</td><td>300</td><td>77</td><td>-1.1</td><td>1023.2</td><td>-18.2</td><td>0</td><td>N  </td><td>4.7</td></tr>\n",
       "\t<tr><td>2013</td><td>3</td><td>1</td><td>2</td><td>7</td><td>7</td><td>5</td><td>10</td><td>300</td><td>73</td><td>-1.1</td><td>1023.5</td><td>-18.2</td><td>0</td><td>NNW</td><td>5.6</td></tr>\n",
       "</tbody>\n",
       "</table>\n"
      ],
      "text/latex": [
       "A tibble: 3 × 16\n",
       "\\begin{tabular}{llllllllllllllll}\n",
       " year & month & day & hour & PM2.5 & PM10 & SO2 & NO2 & CO & O3 & TEMP & PRES & DEWP & RAIN & wd & WSPM\\\\\n",
       " <dbl> & <dbl> & <dbl> & <dbl> & <dbl> & <dbl> & <dbl> & <dbl> & <dbl> & <dbl> & <dbl> & <dbl> & <dbl> & <dbl> & <chr> & <dbl>\\\\\n",
       "\\hline\n",
       "\t 2013 & 3 & 1 & 0 & 4 & 4 & 4 &  7 & 300 & 77 & -0.7 & 1023.0 & -18.8 & 0 & NNW & 4.4\\\\\n",
       "\t 2013 & 3 & 1 & 1 & 8 & 8 & 4 &  7 & 300 & 77 & -1.1 & 1023.2 & -18.2 & 0 & N   & 4.7\\\\\n",
       "\t 2013 & 3 & 1 & 2 & 7 & 7 & 5 & 10 & 300 & 73 & -1.1 & 1023.5 & -18.2 & 0 & NNW & 5.6\\\\\n",
       "\\end{tabular}\n"
      ],
      "text/markdown": [
       "\n",
       "A tibble: 3 × 16\n",
       "\n",
       "| year &lt;dbl&gt; | month &lt;dbl&gt; | day &lt;dbl&gt; | hour &lt;dbl&gt; | PM2.5 &lt;dbl&gt; | PM10 &lt;dbl&gt; | SO2 &lt;dbl&gt; | NO2 &lt;dbl&gt; | CO &lt;dbl&gt; | O3 &lt;dbl&gt; | TEMP &lt;dbl&gt; | PRES &lt;dbl&gt; | DEWP &lt;dbl&gt; | RAIN &lt;dbl&gt; | wd &lt;chr&gt; | WSPM &lt;dbl&gt; |\n",
       "|---|---|---|---|---|---|---|---|---|---|---|---|---|---|---|---|\n",
       "| 2013 | 3 | 1 | 0 | 4 | 4 | 4 |  7 | 300 | 77 | -0.7 | 1023.0 | -18.8 | 0 | NNW | 4.4 |\n",
       "| 2013 | 3 | 1 | 1 | 8 | 8 | 4 |  7 | 300 | 77 | -1.1 | 1023.2 | -18.2 | 0 | N   | 4.7 |\n",
       "| 2013 | 3 | 1 | 2 | 7 | 7 | 5 | 10 | 300 | 73 | -1.1 | 1023.5 | -18.2 | 0 | NNW | 5.6 |\n",
       "\n"
      ],
      "text/plain": [
       "  year month day hour PM2.5 PM10 SO2 NO2 CO  O3 TEMP PRES   DEWP  RAIN wd  WSPM\n",
       "1 2013 3     1   0    4     4    4    7  300 77 -0.7 1023.0 -18.8 0    NNW 4.4 \n",
       "2 2013 3     1   1    8     8    4    7  300 77 -1.1 1023.2 -18.2 0    N   4.7 \n",
       "3 2013 3     1   2    7     7    5   10  300 73 -1.1 1023.5 -18.2 0    NNW 5.6 "
      ]
     },
     "metadata": {},
     "output_type": "display_data"
    },
    {
     "data": {
      "text/html": [
       "<table class=\"dataframe\">\n",
       "<caption>A tibble: 3 × 16</caption>\n",
       "<thead>\n",
       "\t<tr><th scope=col>year</th><th scope=col>month</th><th scope=col>day</th><th scope=col>hour</th><th scope=col>PM2.5</th><th scope=col>PM10</th><th scope=col>SO2</th><th scope=col>NO2</th><th scope=col>CO</th><th scope=col>O3</th><th scope=col>TEMP</th><th scope=col>PRES</th><th scope=col>DEWP</th><th scope=col>RAIN</th><th scope=col>wd</th><th scope=col>WSPM</th></tr>\n",
       "\t<tr><th scope=col>&lt;dbl&gt;</th><th scope=col>&lt;dbl&gt;</th><th scope=col>&lt;dbl&gt;</th><th scope=col>&lt;dbl&gt;</th><th scope=col>&lt;dbl&gt;</th><th scope=col>&lt;dbl&gt;</th><th scope=col>&lt;dbl&gt;</th><th scope=col>&lt;dbl&gt;</th><th scope=col>&lt;dbl&gt;</th><th scope=col>&lt;dbl&gt;</th><th scope=col>&lt;dbl&gt;</th><th scope=col>&lt;dbl&gt;</th><th scope=col>&lt;dbl&gt;</th><th scope=col>&lt;dbl&gt;</th><th scope=col>&lt;chr&gt;</th><th scope=col>&lt;dbl&gt;</th></tr>\n",
       "</thead>\n",
       "<tbody>\n",
       "\t<tr><td>2017</td><td>2</td><td>28</td><td>21</td><td>16</td><td>37</td><td>10</td><td>66</td><td>700</td><td>58</td><td>10.8</td><td>1014.2</td><td>-13.3</td><td>0</td><td>NW </td><td>1.1</td></tr>\n",
       "\t<tr><td>2017</td><td>2</td><td>28</td><td>22</td><td>21</td><td>44</td><td>12</td><td>87</td><td>700</td><td>35</td><td>10.5</td><td>1014.4</td><td>-12.9</td><td>0</td><td>NNW</td><td>1.2</td></tr>\n",
       "\t<tr><td>2017</td><td>2</td><td>28</td><td>23</td><td>19</td><td>31</td><td>10</td><td>79</td><td>600</td><td>42</td><td> 8.6</td><td>1014.1</td><td>-15.9</td><td>0</td><td>NNE</td><td>1.3</td></tr>\n",
       "</tbody>\n",
       "</table>\n"
      ],
      "text/latex": [
       "A tibble: 3 × 16\n",
       "\\begin{tabular}{llllllllllllllll}\n",
       " year & month & day & hour & PM2.5 & PM10 & SO2 & NO2 & CO & O3 & TEMP & PRES & DEWP & RAIN & wd & WSPM\\\\\n",
       " <dbl> & <dbl> & <dbl> & <dbl> & <dbl> & <dbl> & <dbl> & <dbl> & <dbl> & <dbl> & <dbl> & <dbl> & <dbl> & <dbl> & <chr> & <dbl>\\\\\n",
       "\\hline\n",
       "\t 2017 & 2 & 28 & 21 & 16 & 37 & 10 & 66 & 700 & 58 & 10.8 & 1014.2 & -13.3 & 0 & NW  & 1.1\\\\\n",
       "\t 2017 & 2 & 28 & 22 & 21 & 44 & 12 & 87 & 700 & 35 & 10.5 & 1014.4 & -12.9 & 0 & NNW & 1.2\\\\\n",
       "\t 2017 & 2 & 28 & 23 & 19 & 31 & 10 & 79 & 600 & 42 &  8.6 & 1014.1 & -15.9 & 0 & NNE & 1.3\\\\\n",
       "\\end{tabular}\n"
      ],
      "text/markdown": [
       "\n",
       "A tibble: 3 × 16\n",
       "\n",
       "| year &lt;dbl&gt; | month &lt;dbl&gt; | day &lt;dbl&gt; | hour &lt;dbl&gt; | PM2.5 &lt;dbl&gt; | PM10 &lt;dbl&gt; | SO2 &lt;dbl&gt; | NO2 &lt;dbl&gt; | CO &lt;dbl&gt; | O3 &lt;dbl&gt; | TEMP &lt;dbl&gt; | PRES &lt;dbl&gt; | DEWP &lt;dbl&gt; | RAIN &lt;dbl&gt; | wd &lt;chr&gt; | WSPM &lt;dbl&gt; |\n",
       "|---|---|---|---|---|---|---|---|---|---|---|---|---|---|---|---|\n",
       "| 2017 | 2 | 28 | 21 | 16 | 37 | 10 | 66 | 700 | 58 | 10.8 | 1014.2 | -13.3 | 0 | NW  | 1.1 |\n",
       "| 2017 | 2 | 28 | 22 | 21 | 44 | 12 | 87 | 700 | 35 | 10.5 | 1014.4 | -12.9 | 0 | NNW | 1.2 |\n",
       "| 2017 | 2 | 28 | 23 | 19 | 31 | 10 | 79 | 600 | 42 |  8.6 | 1014.1 | -15.9 | 0 | NNE | 1.3 |\n",
       "\n"
      ],
      "text/plain": [
       "  year month day hour PM2.5 PM10 SO2 NO2 CO  O3 TEMP PRES   DEWP  RAIN wd  WSPM\n",
       "1 2017 2     28  21   16    37   10  66  700 58 10.8 1014.2 -13.3 0    NW  1.1 \n",
       "2 2017 2     28  22   21    44   12  87  700 35 10.5 1014.4 -12.9 0    NNW 1.2 \n",
       "3 2017 2     28  23   19    31   10  79  600 42  8.6 1014.1 -15.9 0    NNE 1.3 "
      ]
     },
     "metadata": {},
     "output_type": "display_data"
    }
   ],
   "source": [
    "# Get weather + pollution data for the Aotizhongxin station in Beijing\n",
    "download.file(\"https://raw.githubusercontent.com/DonkeyBlaster/dsci-100-2023w1-group43/main/PRSA_Data_Aotizhongxin_20130301-20170228.csv\", \"Aotizhongxin_data.csv\")\n",
    "air_quality_data <- read_csv(\"Aotizhongxin_data.csv\") |>\n",
    "    select(-station) |> # This just says \"Aotizhongxin\", no need to keep it around\n",
    "    select(-No)  # This is a continuously increasing counter, we don't need it either\n",
    "head(air_quality_data, 3)\n",
    "tail(air_quality_data, 3)"
   ]
  },
  {
   "cell_type": "markdown",
   "id": "401a7eea-08d9-4b3d-a2f4-9b0bb1f4dd6c",
   "metadata": {},
   "source": [
    "As shown above by the preview of the data, there are observations for each hour from the start of March 2013 to the end of February 2017. AQI can be easily calculated with the \"con2aqi\" library (after wrangling). First, we can check for and remove any N/A values:"
   ]
  },
  {
   "cell_type": "code",
   "execution_count": 3,
   "id": "343d7fe7-d0c8-4e1f-93d1-b0d55c0cbb83",
   "metadata": {
    "tags": []
   },
   "outputs": [],
   "source": [
    "air_quality_data <- air_quality_data |> na.omit()"
   ]
  },
  {
   "cell_type": "markdown",
   "id": "264dbf36-1f11-4406-8e41-dc0821b953e7",
   "metadata": {},
   "source": [
    "And additionally, we need to wrangle the pollutant units into ones the library understands. All existing data are in ug/m^3, and the library wants the following units:\n",
    "| PM2.5  | PM10   | SO2 | NO2 | CO  | O3  |\n",
    "|--------|--------|-----|-----|-----|-----|\n",
    "| ug/m^3 | ug/m^3 | ppb | ppb | ppm | ppm |"
   ]
  },
  {
   "cell_type": "code",
   "execution_count": 4,
   "id": "c9fdaf92-df35-43a5-a59a-39ec71fecbf9",
   "metadata": {
    "tags": []
   },
   "outputs": [
    {
     "data": {
      "text/html": [
       "<table class=\"dataframe\">\n",
       "<caption>A tibble: 3 × 21</caption>\n",
       "<thead>\n",
       "\t<tr><th scope=col>year</th><th scope=col>month</th><th scope=col>day</th><th scope=col>hour</th><th scope=col>PM2.5</th><th scope=col>PM10</th><th scope=col>SO2</th><th scope=col>NO2</th><th scope=col>CO</th><th scope=col>O3</th><th scope=col>⋯</th><th scope=col>PRES</th><th scope=col>DEWP</th><th scope=col>RAIN</th><th scope=col>wd</th><th scope=col>WSPM</th><th scope=col>volume</th><th scope=col>so2_ppb</th><th scope=col>no2_ppb</th><th scope=col>co_ppm</th><th scope=col>o3_ppm</th></tr>\n",
       "\t<tr><th scope=col>&lt;dbl&gt;</th><th scope=col>&lt;dbl&gt;</th><th scope=col>&lt;dbl&gt;</th><th scope=col>&lt;dbl&gt;</th><th scope=col>&lt;dbl&gt;</th><th scope=col>&lt;dbl&gt;</th><th scope=col>&lt;dbl&gt;</th><th scope=col>&lt;dbl&gt;</th><th scope=col>&lt;dbl&gt;</th><th scope=col>&lt;dbl&gt;</th><th scope=col>⋯</th><th scope=col>&lt;dbl&gt;</th><th scope=col>&lt;dbl&gt;</th><th scope=col>&lt;dbl&gt;</th><th scope=col>&lt;chr&gt;</th><th scope=col>&lt;dbl&gt;</th><th scope=col>&lt;dbl&gt;</th><th scope=col>&lt;dbl&gt;</th><th scope=col>&lt;dbl&gt;</th><th scope=col>&lt;dbl&gt;</th><th scope=col>&lt;dbl&gt;</th></tr>\n",
       "</thead>\n",
       "<tbody>\n",
       "\t<tr><td>2013</td><td>3</td><td>1</td><td>0</td><td>4</td><td>4</td><td>4</td><td> 7</td><td>300</td><td>77</td><td>⋯</td><td>1023.0</td><td>-18.8</td><td>0</td><td>NNW</td><td>4.4</td><td>22.14205</td><td>1.382366</td><td>3.368711</td><td>0.2371516</td><td>0.03551954</td></tr>\n",
       "\t<tr><td>2013</td><td>3</td><td>1</td><td>1</td><td>8</td><td>8</td><td>4</td><td> 7</td><td>300</td><td>77</td><td>⋯</td><td>1023.2</td><td>-18.2</td><td>0</td><td>N  </td><td>4.7</td><td>22.10523</td><td>1.380067</td><td>3.363108</td><td>0.2367572</td><td>0.03546047</td></tr>\n",
       "\t<tr><td>2013</td><td>3</td><td>1</td><td>2</td><td>7</td><td>7</td><td>5</td><td>10</td><td>300</td><td>73</td><td>⋯</td><td>1023.5</td><td>-18.2</td><td>0</td><td>NNW</td><td>5.6</td><td>22.09875</td><td>1.724579</td><td>4.803032</td><td>0.2366878</td><td>0.03360852</td></tr>\n",
       "</tbody>\n",
       "</table>\n"
      ],
      "text/latex": [
       "A tibble: 3 × 21\n",
       "\\begin{tabular}{lllllllllllllllllllll}\n",
       " year & month & day & hour & PM2.5 & PM10 & SO2 & NO2 & CO & O3 & ⋯ & PRES & DEWP & RAIN & wd & WSPM & volume & so2\\_ppb & no2\\_ppb & co\\_ppm & o3\\_ppm\\\\\n",
       " <dbl> & <dbl> & <dbl> & <dbl> & <dbl> & <dbl> & <dbl> & <dbl> & <dbl> & <dbl> & ⋯ & <dbl> & <dbl> & <dbl> & <chr> & <dbl> & <dbl> & <dbl> & <dbl> & <dbl> & <dbl>\\\\\n",
       "\\hline\n",
       "\t 2013 & 3 & 1 & 0 & 4 & 4 & 4 &  7 & 300 & 77 & ⋯ & 1023.0 & -18.8 & 0 & NNW & 4.4 & 22.14205 & 1.382366 & 3.368711 & 0.2371516 & 0.03551954\\\\\n",
       "\t 2013 & 3 & 1 & 1 & 8 & 8 & 4 &  7 & 300 & 77 & ⋯ & 1023.2 & -18.2 & 0 & N   & 4.7 & 22.10523 & 1.380067 & 3.363108 & 0.2367572 & 0.03546047\\\\\n",
       "\t 2013 & 3 & 1 & 2 & 7 & 7 & 5 & 10 & 300 & 73 & ⋯ & 1023.5 & -18.2 & 0 & NNW & 5.6 & 22.09875 & 1.724579 & 4.803032 & 0.2366878 & 0.03360852\\\\\n",
       "\\end{tabular}\n"
      ],
      "text/markdown": [
       "\n",
       "A tibble: 3 × 21\n",
       "\n",
       "| year &lt;dbl&gt; | month &lt;dbl&gt; | day &lt;dbl&gt; | hour &lt;dbl&gt; | PM2.5 &lt;dbl&gt; | PM10 &lt;dbl&gt; | SO2 &lt;dbl&gt; | NO2 &lt;dbl&gt; | CO &lt;dbl&gt; | O3 &lt;dbl&gt; | ⋯ ⋯ | PRES &lt;dbl&gt; | DEWP &lt;dbl&gt; | RAIN &lt;dbl&gt; | wd &lt;chr&gt; | WSPM &lt;dbl&gt; | volume &lt;dbl&gt; | so2_ppb &lt;dbl&gt; | no2_ppb &lt;dbl&gt; | co_ppm &lt;dbl&gt; | o3_ppm &lt;dbl&gt; |\n",
       "|---|---|---|---|---|---|---|---|---|---|---|---|---|---|---|---|---|---|---|---|---|\n",
       "| 2013 | 3 | 1 | 0 | 4 | 4 | 4 |  7 | 300 | 77 | ⋯ | 1023.0 | -18.8 | 0 | NNW | 4.4 | 22.14205 | 1.382366 | 3.368711 | 0.2371516 | 0.03551954 |\n",
       "| 2013 | 3 | 1 | 1 | 8 | 8 | 4 |  7 | 300 | 77 | ⋯ | 1023.2 | -18.2 | 0 | N   | 4.7 | 22.10523 | 1.380067 | 3.363108 | 0.2367572 | 0.03546047 |\n",
       "| 2013 | 3 | 1 | 2 | 7 | 7 | 5 | 10 | 300 | 73 | ⋯ | 1023.5 | -18.2 | 0 | NNW | 5.6 | 22.09875 | 1.724579 | 4.803032 | 0.2366878 | 0.03360852 |\n",
       "\n"
      ],
      "text/plain": [
       "  year month day hour PM2.5 PM10 SO2 NO2 CO  O3 ⋯ PRES   DEWP  RAIN wd  WSPM\n",
       "1 2013 3     1   0    4     4    4    7  300 77 ⋯ 1023.0 -18.8 0    NNW 4.4 \n",
       "2 2013 3     1   1    8     8    4    7  300 77 ⋯ 1023.2 -18.2 0    N   4.7 \n",
       "3 2013 3     1   2    7     7    5   10  300 73 ⋯ 1023.5 -18.2 0    NNW 5.6 \n",
       "  volume   so2_ppb  no2_ppb  co_ppm    o3_ppm    \n",
       "1 22.14205 1.382366 3.368711 0.2371516 0.03551954\n",
       "2 22.10523 1.380067 3.363108 0.2367572 0.03546047\n",
       "3 22.09875 1.724579 4.803032 0.2366878 0.03360852"
      ]
     },
     "metadata": {},
     "output_type": "display_data"
    },
    {
     "data": {
      "text/html": [
       "<table class=\"dataframe\">\n",
       "<caption>A tibble: 3 × 21</caption>\n",
       "<thead>\n",
       "\t<tr><th scope=col>year</th><th scope=col>month</th><th scope=col>day</th><th scope=col>hour</th><th scope=col>PM2.5</th><th scope=col>PM10</th><th scope=col>SO2</th><th scope=col>NO2</th><th scope=col>CO</th><th scope=col>O3</th><th scope=col>⋯</th><th scope=col>PRES</th><th scope=col>DEWP</th><th scope=col>RAIN</th><th scope=col>wd</th><th scope=col>WSPM</th><th scope=col>volume</th><th scope=col>so2_ppb</th><th scope=col>no2_ppb</th><th scope=col>co_ppm</th><th scope=col>o3_ppm</th></tr>\n",
       "\t<tr><th scope=col>&lt;dbl&gt;</th><th scope=col>&lt;dbl&gt;</th><th scope=col>&lt;dbl&gt;</th><th scope=col>&lt;dbl&gt;</th><th scope=col>&lt;dbl&gt;</th><th scope=col>&lt;dbl&gt;</th><th scope=col>&lt;dbl&gt;</th><th scope=col>&lt;dbl&gt;</th><th scope=col>&lt;dbl&gt;</th><th scope=col>&lt;dbl&gt;</th><th scope=col>⋯</th><th scope=col>&lt;dbl&gt;</th><th scope=col>&lt;dbl&gt;</th><th scope=col>&lt;dbl&gt;</th><th scope=col>&lt;chr&gt;</th><th scope=col>&lt;dbl&gt;</th><th scope=col>&lt;dbl&gt;</th><th scope=col>&lt;dbl&gt;</th><th scope=col>&lt;dbl&gt;</th><th scope=col>&lt;dbl&gt;</th><th scope=col>&lt;dbl&gt;</th></tr>\n",
       "</thead>\n",
       "<tbody>\n",
       "\t<tr><td>2017</td><td>2</td><td>28</td><td>21</td><td>16</td><td>37</td><td>10</td><td>66</td><td>700</td><td>58</td><td>⋯</td><td>1014.2</td><td>-13.3</td><td>0</td><td>NW </td><td>1.1</td><td>23.27672</td><td>3.633014</td><td>33.38977</td><td>0.5817102</td><td>0.02812603</td></tr>\n",
       "\t<tr><td>2017</td><td>2</td><td>28</td><td>22</td><td>21</td><td>44</td><td>12</td><td>87</td><td>700</td><td>35</td><td>⋯</td><td>1014.4</td><td>-12.9</td><td>0</td><td>NNW</td><td>1.2</td><td>23.24755</td><td>4.354152</td><td>43.95863</td><td>0.5809812</td><td>0.01695134</td></tr>\n",
       "\t<tr><td>2017</td><td>2</td><td>28</td><td>23</td><td>19</td><td>31</td><td>10</td><td>79</td><td>600</td><td>42</td><td>⋯</td><td>1014.1</td><td>-15.9</td><td>0</td><td>NNE</td><td>1.3</td><td>23.09868</td><td>3.605226</td><td>39.66086</td><td>0.4947951</td><td>0.02021135</td></tr>\n",
       "</tbody>\n",
       "</table>\n"
      ],
      "text/latex": [
       "A tibble: 3 × 21\n",
       "\\begin{tabular}{lllllllllllllllllllll}\n",
       " year & month & day & hour & PM2.5 & PM10 & SO2 & NO2 & CO & O3 & ⋯ & PRES & DEWP & RAIN & wd & WSPM & volume & so2\\_ppb & no2\\_ppb & co\\_ppm & o3\\_ppm\\\\\n",
       " <dbl> & <dbl> & <dbl> & <dbl> & <dbl> & <dbl> & <dbl> & <dbl> & <dbl> & <dbl> & ⋯ & <dbl> & <dbl> & <dbl> & <chr> & <dbl> & <dbl> & <dbl> & <dbl> & <dbl> & <dbl>\\\\\n",
       "\\hline\n",
       "\t 2017 & 2 & 28 & 21 & 16 & 37 & 10 & 66 & 700 & 58 & ⋯ & 1014.2 & -13.3 & 0 & NW  & 1.1 & 23.27672 & 3.633014 & 33.38977 & 0.5817102 & 0.02812603\\\\\n",
       "\t 2017 & 2 & 28 & 22 & 21 & 44 & 12 & 87 & 700 & 35 & ⋯ & 1014.4 & -12.9 & 0 & NNW & 1.2 & 23.24755 & 4.354152 & 43.95863 & 0.5809812 & 0.01695134\\\\\n",
       "\t 2017 & 2 & 28 & 23 & 19 & 31 & 10 & 79 & 600 & 42 & ⋯ & 1014.1 & -15.9 & 0 & NNE & 1.3 & 23.09868 & 3.605226 & 39.66086 & 0.4947951 & 0.02021135\\\\\n",
       "\\end{tabular}\n"
      ],
      "text/markdown": [
       "\n",
       "A tibble: 3 × 21\n",
       "\n",
       "| year &lt;dbl&gt; | month &lt;dbl&gt; | day &lt;dbl&gt; | hour &lt;dbl&gt; | PM2.5 &lt;dbl&gt; | PM10 &lt;dbl&gt; | SO2 &lt;dbl&gt; | NO2 &lt;dbl&gt; | CO &lt;dbl&gt; | O3 &lt;dbl&gt; | ⋯ ⋯ | PRES &lt;dbl&gt; | DEWP &lt;dbl&gt; | RAIN &lt;dbl&gt; | wd &lt;chr&gt; | WSPM &lt;dbl&gt; | volume &lt;dbl&gt; | so2_ppb &lt;dbl&gt; | no2_ppb &lt;dbl&gt; | co_ppm &lt;dbl&gt; | o3_ppm &lt;dbl&gt; |\n",
       "|---|---|---|---|---|---|---|---|---|---|---|---|---|---|---|---|---|---|---|---|---|\n",
       "| 2017 | 2 | 28 | 21 | 16 | 37 | 10 | 66 | 700 | 58 | ⋯ | 1014.2 | -13.3 | 0 | NW  | 1.1 | 23.27672 | 3.633014 | 33.38977 | 0.5817102 | 0.02812603 |\n",
       "| 2017 | 2 | 28 | 22 | 21 | 44 | 12 | 87 | 700 | 35 | ⋯ | 1014.4 | -12.9 | 0 | NNW | 1.2 | 23.24755 | 4.354152 | 43.95863 | 0.5809812 | 0.01695134 |\n",
       "| 2017 | 2 | 28 | 23 | 19 | 31 | 10 | 79 | 600 | 42 | ⋯ | 1014.1 | -15.9 | 0 | NNE | 1.3 | 23.09868 | 3.605226 | 39.66086 | 0.4947951 | 0.02021135 |\n",
       "\n"
      ],
      "text/plain": [
       "  year month day hour PM2.5 PM10 SO2 NO2 CO  O3 ⋯ PRES   DEWP  RAIN wd  WSPM\n",
       "1 2017 2     28  21   16    37   10  66  700 58 ⋯ 1014.2 -13.3 0    NW  1.1 \n",
       "2 2017 2     28  22   21    44   12  87  700 35 ⋯ 1014.4 -12.9 0    NNW 1.2 \n",
       "3 2017 2     28  23   19    31   10  79  600 42 ⋯ 1014.1 -15.9 0    NNE 1.3 \n",
       "  volume   so2_ppb  no2_ppb  co_ppm    o3_ppm    \n",
       "1 23.27672 3.633014 33.38977 0.5817102 0.02812603\n",
       "2 23.24755 4.354152 43.95863 0.5809812 0.01695134\n",
       "3 23.09868 3.605226 39.66086 0.4947951 0.02021135"
      ]
     },
     "metadata": {},
     "output_type": "display_data"
    }
   ],
   "source": [
    "R = 0.082057366080960  # Gas constant for litres, atmospheres, kelvin, mols.\n",
    "SO2_molecular_weight = 64.07  # g/mol\n",
    "NO2_molecular_weight = 46.01  # g/mol\n",
    "CO_molecular_weight = 28.01  # g/mol\n",
    "O3_molecular_weight = 48.00  # g/mol\n",
    "air_quality_data <- air_quality_data |>\n",
    "    # PV = nRT formula rearranged to V = RT/P, n=1.\n",
    "    mutate(volume = R * (273.2 + TEMP) / (PRES/1013)) |>   # Convert temp to Kelvin, pressure to atmospheres\n",
    "    mutate(so2_ppb = volume * SO2 / SO2_molecular_weight) |>\n",
    "    mutate(no2_ppb = volume * NO2 / NO2_molecular_weight) |>\n",
    "    # Multiply by div by 1000 for ppb -> ppm\n",
    "    mutate(co_ppm = volume * CO / CO_molecular_weight / 1000) |>\n",
    "    mutate(o3_ppm = volume * O3 / O3_molecular_weight / 1000)\n",
    "head(air_quality_data, 3)\n",
    "tail(air_quality_data, 3)"
   ]
  },
  {
   "cell_type": "markdown",
   "id": "28055586-a3b8-4cc7-a980-ce2fbbb22318",
   "metadata": {},
   "source": [
    "Next, we need to calculate certain moving averages for the concentration values, as per [the specification](https://www.airnow.gov/sites/default/files/2020-05/aqi-technical-assistance-document-sept2018.pdf). Each pollutant has a different period for the required moving averages, listed in this table:\n",
    "| PM2.5    | PM10     | SO2      | NO2    | CO      | O3           |\n",
    "|----------|----------|----------|--------|---------|--------------|\n",
    "| 24 hours | 24 hours | 1 hour   | 1 hour | 8 hours | 1 or 8 hours |\n"
   ]
  },
  {
   "cell_type": "code",
   "execution_count": 5,
   "id": "c74722ba-6a33-4b95-852f-f67785dd2ce7",
   "metadata": {
    "tags": []
   },
   "outputs": [
    {
     "data": {
      "text/html": [
       "<table class=\"dataframe\">\n",
       "<caption>A tibble: 26 × 25</caption>\n",
       "<thead>\n",
       "\t<tr><th scope=col>year</th><th scope=col>month</th><th scope=col>day</th><th scope=col>hour</th><th scope=col>PM2.5</th><th scope=col>PM10</th><th scope=col>SO2</th><th scope=col>NO2</th><th scope=col>CO</th><th scope=col>O3</th><th scope=col>⋯</th><th scope=col>WSPM</th><th scope=col>volume</th><th scope=col>so2_ppb</th><th scope=col>no2_ppb</th><th scope=col>co_ppm</th><th scope=col>o3_ppm</th><th scope=col>pm2.5_24hour</th><th scope=col>pm10_24hour</th><th scope=col>co_8hour</th><th scope=col>o3_8hour</th></tr>\n",
       "\t<tr><th scope=col>&lt;dbl&gt;</th><th scope=col>&lt;dbl&gt;</th><th scope=col>&lt;dbl&gt;</th><th scope=col>&lt;dbl&gt;</th><th scope=col>&lt;dbl&gt;</th><th scope=col>&lt;dbl&gt;</th><th scope=col>&lt;dbl&gt;</th><th scope=col>&lt;dbl&gt;</th><th scope=col>&lt;dbl&gt;</th><th scope=col>&lt;dbl&gt;</th><th scope=col>⋯</th><th scope=col>&lt;dbl&gt;</th><th scope=col>&lt;dbl&gt;</th><th scope=col>&lt;dbl&gt;</th><th scope=col>&lt;dbl&gt;</th><th scope=col>&lt;dbl&gt;</th><th scope=col>&lt;dbl&gt;</th><th scope=col>&lt;dbl&gt;</th><th scope=col>&lt;dbl&gt;</th><th scope=col>&lt;dbl&gt;</th><th scope=col>&lt;dbl&gt;</th></tr>\n",
       "</thead>\n",
       "<tbody>\n",
       "\t<tr><td>2013</td><td>3</td><td>1</td><td> 0</td><td> 4</td><td> 4</td><td> 4</td><td> 7</td><td>300</td><td>77</td><td>⋯</td><td>4.4</td><td>22.14205</td><td>1.382366</td><td> 3.368711</td><td>0.2371516</td><td>0.03551954</td><td>   NA</td><td>      NA</td><td>       NA</td><td>        NA</td></tr>\n",
       "\t<tr><td>2013</td><td>3</td><td>1</td><td> 1</td><td> 8</td><td> 8</td><td> 4</td><td> 7</td><td>300</td><td>77</td><td>⋯</td><td>4.7</td><td>22.10523</td><td>1.380067</td><td> 3.363108</td><td>0.2367572</td><td>0.03546047</td><td>   NA</td><td>      NA</td><td>       NA</td><td>        NA</td></tr>\n",
       "\t<tr><td>2013</td><td>3</td><td>1</td><td> 2</td><td> 7</td><td> 7</td><td> 5</td><td>10</td><td>300</td><td>73</td><td>⋯</td><td>5.6</td><td>22.09875</td><td>1.724579</td><td> 4.803032</td><td>0.2366878</td><td>0.03360852</td><td>   NA</td><td>      NA</td><td>       NA</td><td>        NA</td></tr>\n",
       "\t<tr><td>2013</td><td>3</td><td>1</td><td> 3</td><td> 6</td><td> 6</td><td>11</td><td>11</td><td>300</td><td>72</td><td>⋯</td><td>3.1</td><td>22.05284</td><td>3.786191</td><td> 5.272359</td><td>0.2361961</td><td>0.03307926</td><td>   NA</td><td>      NA</td><td>       NA</td><td>        NA</td></tr>\n",
       "\t<tr><td>2013</td><td>3</td><td>1</td><td> 4</td><td> 3</td><td> 3</td><td>12</td><td>12</td><td>300</td><td>72</td><td>⋯</td><td>2.0</td><td>21.98913</td><td>4.118458</td><td> 5.735049</td><td>0.2355137</td><td>0.03298370</td><td>   NA</td><td>      NA</td><td>       NA</td><td>        NA</td></tr>\n",
       "\t<tr><td>2013</td><td>3</td><td>1</td><td> 5</td><td> 5</td><td> 5</td><td>18</td><td>18</td><td>400</td><td>66</td><td>⋯</td><td>3.7</td><td>21.96435</td><td>6.170723</td><td> 8.592876</td><td>0.3136644</td><td>0.03020098</td><td>   NA</td><td>      NA</td><td>       NA</td><td>        NA</td></tr>\n",
       "\t<tr><td>2013</td><td>3</td><td>1</td><td> 6</td><td> 3</td><td> 3</td><td>18</td><td>32</td><td>500</td><td>50</td><td>⋯</td><td>2.5</td><td>21.91270</td><td>6.156213</td><td>15.240303</td><td>0.3911585</td><td>0.02282573</td><td>   NA</td><td>      NA</td><td>       NA</td><td>        NA</td></tr>\n",
       "\t<tr><td>2013</td><td>3</td><td>1</td><td> 7</td><td> 3</td><td> 6</td><td>19</td><td>41</td><td>500</td><td>43</td><td>⋯</td><td>3.8</td><td>21.97441</td><td>6.516526</td><td>19.581630</td><td>0.3922601</td><td>0.01968541</td><td>   NA</td><td>      NA</td><td>0.2849237</td><td>0.03042045</td></tr>\n",
       "\t<tr><td>2013</td><td>3</td><td>1</td><td> 8</td><td> 3</td><td> 6</td><td>16</td><td>43</td><td>500</td><td>45</td><td>⋯</td><td>4.1</td><td>22.09260</td><td>5.517115</td><td>20.647289</td><td>0.3943699</td><td>0.02071181</td><td>   NA</td><td>      NA</td><td>0.3045759</td><td>0.02856948</td></tr>\n",
       "\t<tr><td>2013</td><td>3</td><td>1</td><td> 9</td><td> 3</td><td> 8</td><td>12</td><td>28</td><td>400</td><td>59</td><td>⋯</td><td>2.6</td><td>22.17721</td><td>4.153683</td><td>13.496235</td><td>0.3167041</td><td>0.02725948</td><td>   NA</td><td>      NA</td><td>0.3145693</td><td>0.02754436</td></tr>\n",
       "\t<tr><td>2013</td><td>3</td><td>1</td><td>10</td><td> 3</td><td> 6</td><td> 9</td><td>12</td><td>400</td><td>72</td><td>⋯</td><td>3.6</td><td>22.24027</td><td>3.124121</td><td> 5.800548</td><td>0.3176047</td><td>0.03336040</td><td>   NA</td><td>      NA</td><td>0.3246839</td><td>0.02751335</td></tr>\n",
       "\t<tr><td>2013</td><td>3</td><td>1</td><td>11</td><td> 3</td><td> 6</td><td> 9</td><td>14</td><td>400</td><td>71</td><td>⋯</td><td>3.7</td><td>22.32111</td><td>3.135477</td><td> 6.791905</td><td>0.3187592</td><td>0.03301664</td><td>   NA</td><td>      NA</td><td>0.3350043</td><td>0.02750552</td></tr>\n",
       "\t<tr><td>2013</td><td>3</td><td>1</td><td>12</td><td> 3</td><td> 6</td><td> 7</td><td>13</td><td>300</td><td>74</td><td>⋯</td><td>5.1</td><td>22.42158</td><td>2.449681</td><td> 6.335157</td><td>0.2401455</td><td>0.03456661</td><td>   NA</td><td>      NA</td><td>0.3355833</td><td>0.02770338</td></tr>\n",
       "\t<tr><td>2013</td><td>3</td><td>1</td><td>13</td><td> 3</td><td> 6</td><td> 7</td><td>12</td><td>400</td><td>76</td><td>⋯</td><td>4.3</td><td>22.55902</td><td>2.464697</td><td> 5.883682</td><td>0.3221566</td><td>0.03571845</td><td>   NA</td><td>      NA</td><td>0.3366448</td><td>0.02839307</td></tr>\n",
       "\t<tr><td>2013</td><td>3</td><td>1</td><td>14</td><td> 6</td><td> 9</td><td> 7</td><td>11</td><td>400</td><td>77</td><td>⋯</td><td>4.4</td><td>22.62233</td><td>2.471614</td><td> 5.408513</td><td>0.3230608</td><td>0.03628999</td><td>   NA</td><td>      NA</td><td>0.3281326</td><td>0.03007610</td></tr>\n",
       "\t<tr><td>2013</td><td>3</td><td>1</td><td>15</td><td> 8</td><td>15</td><td> 7</td><td>14</td><td>400</td><td>76</td><td>⋯</td><td>2.8</td><td>22.64295</td><td>2.473867</td><td> 6.889836</td><td>0.3233553</td><td>0.03585134</td><td>   NA</td><td>      NA</td><td>0.3195195</td><td>0.03209684</td></tr>\n",
       "\t<tr><td>2013</td><td>3</td><td>1</td><td>16</td><td> 9</td><td>19</td><td> 9</td><td>13</td><td>400</td><td>76</td><td>⋯</td><td>3.9</td><td>22.62085</td><td>3.177581</td><td> 6.391458</td><td>0.3230396</td><td>0.03581634</td><td>   NA</td><td>      NA</td><td>0.3106032</td><td>0.03398491</td></tr>\n",
       "\t<tr><td>2013</td><td>3</td><td>1</td><td>17</td><td>10</td><td>23</td><td>11</td><td>15</td><td>400</td><td>74</td><td>⋯</td><td>2.8</td><td>22.47583</td><td>3.858812</td><td> 7.327481</td><td>0.3209686</td><td>0.03465023</td><td>   NA</td><td>      NA</td><td>0.3111363</td><td>0.03490875</td></tr>\n",
       "\t<tr><td>2013</td><td>3</td><td>1</td><td>18</td><td>11</td><td>20</td><td> 8</td><td>20</td><td>500</td><td>70</td><td>⋯</td><td>2.1</td><td>22.35467</td><td>2.791281</td><td> 9.717311</td><td>0.3990481</td><td>0.03260057</td><td>   NA</td><td>      NA</td><td>0.3213167</td><td>0.03481377</td></tr>\n",
       "\t<tr><td>2013</td><td>3</td><td>1</td><td>19</td><td> 8</td><td>14</td><td>12</td><td>30</td><td>500</td><td>60</td><td>⋯</td><td>2.8</td><td>22.27044</td><td>4.171145</td><td>14.521043</td><td>0.3975444</td><td>0.02783805</td><td>   NA</td><td>      NA</td><td>0.3311649</td><td>0.03416645</td></tr>\n",
       "\t<tr><td>2013</td><td>3</td><td>1</td><td>20</td><td>11</td><td>17</td><td>13</td><td>33</td><td>600</td><td>55</td><td>⋯</td><td>2.1</td><td>22.20466</td><td>4.505394</td><td>15.925970</td><td>0.4756443</td><td>0.02544284</td><td>   NA</td><td>      NA</td><td>0.3606022</td><td>0.03302598</td></tr>\n",
       "\t<tr><td>2013</td><td>3</td><td>1</td><td>21</td><td>12</td><td>18</td><td>16</td><td>35</td><td>500</td><td>50</td><td>⋯</td><td>0.8</td><td>22.09434</td><td>5.517551</td><td>16.807259</td><td>0.3944010</td><td>0.02301494</td><td>   NA</td><td>      NA</td><td>0.3696328</td><td>0.03143804</td></tr>\n",
       "\t<tr><td>2013</td><td>3</td><td>1</td><td>22</td><td>15</td><td>19</td><td>21</td><td>57</td><td>700</td><td>32</td><td>⋯</td><td>1.8</td><td>22.10997</td><td>7.246906</td><td>27.391176</td><td>0.5525518</td><td>0.01473998</td><td>   NA</td><td>      NA</td><td>0.3983191</td><td>0.02874429</td></tr>\n",
       "\t<tr><td>2013</td><td>3</td><td>1</td><td>23</td><td>24</td><td>24</td><td>26</td><td>54</td><td>600</td><td>36</td><td>⋯</td><td>1.4</td><td>22.02123</td><td>8.936353</td><td>25.845396</td><td>0.4717151</td><td>0.01651593</td><td>7.125</td><td>10.75000</td><td>0.4168641</td><td>0.02632736</td></tr>\n",
       "\t<tr><td>2013</td><td>3</td><td>2</td><td> 0</td><td>22</td><td>24</td><td>24</td><td>44</td><td>500</td><td>44</td><td>⋯</td><td>1.4</td><td>21.99443</td><td>8.238900</td><td>21.033578</td><td>0.3926175</td><td>0.02016156</td><td>7.875</td><td>11.58333</td><td>0.4255614</td><td>0.02437051</td></tr>\n",
       "\t<tr><td>2013</td><td>3</td><td>2</td><td> 1</td><td>14</td><td>17</td><td>21</td><td>36</td><td>400</td><td>50</td><td>⋯</td><td>1.1</td><td>21.93967</td><td>7.191089</td><td>17.166446</td><td>0.3133120</td><td>0.02285382</td><td>8.125</td><td>11.95833</td><td>0.4246043</td><td>0.02289596</td></tr>\n",
       "</tbody>\n",
       "</table>\n"
      ],
      "text/latex": [
       "A tibble: 26 × 25\n",
       "\\begin{tabular}{lllllllllllllllllllll}\n",
       " year & month & day & hour & PM2.5 & PM10 & SO2 & NO2 & CO & O3 & ⋯ & WSPM & volume & so2\\_ppb & no2\\_ppb & co\\_ppm & o3\\_ppm & pm2.5\\_24hour & pm10\\_24hour & co\\_8hour & o3\\_8hour\\\\\n",
       " <dbl> & <dbl> & <dbl> & <dbl> & <dbl> & <dbl> & <dbl> & <dbl> & <dbl> & <dbl> & ⋯ & <dbl> & <dbl> & <dbl> & <dbl> & <dbl> & <dbl> & <dbl> & <dbl> & <dbl> & <dbl>\\\\\n",
       "\\hline\n",
       "\t 2013 & 3 & 1 &  0 &  4 &  4 &  4 &  7 & 300 & 77 & ⋯ & 4.4 & 22.14205 & 1.382366 &  3.368711 & 0.2371516 & 0.03551954 &    NA &       NA &        NA &         NA\\\\\n",
       "\t 2013 & 3 & 1 &  1 &  8 &  8 &  4 &  7 & 300 & 77 & ⋯ & 4.7 & 22.10523 & 1.380067 &  3.363108 & 0.2367572 & 0.03546047 &    NA &       NA &        NA &         NA\\\\\n",
       "\t 2013 & 3 & 1 &  2 &  7 &  7 &  5 & 10 & 300 & 73 & ⋯ & 5.6 & 22.09875 & 1.724579 &  4.803032 & 0.2366878 & 0.03360852 &    NA &       NA &        NA &         NA\\\\\n",
       "\t 2013 & 3 & 1 &  3 &  6 &  6 & 11 & 11 & 300 & 72 & ⋯ & 3.1 & 22.05284 & 3.786191 &  5.272359 & 0.2361961 & 0.03307926 &    NA &       NA &        NA &         NA\\\\\n",
       "\t 2013 & 3 & 1 &  4 &  3 &  3 & 12 & 12 & 300 & 72 & ⋯ & 2.0 & 21.98913 & 4.118458 &  5.735049 & 0.2355137 & 0.03298370 &    NA &       NA &        NA &         NA\\\\\n",
       "\t 2013 & 3 & 1 &  5 &  5 &  5 & 18 & 18 & 400 & 66 & ⋯ & 3.7 & 21.96435 & 6.170723 &  8.592876 & 0.3136644 & 0.03020098 &    NA &       NA &        NA &         NA\\\\\n",
       "\t 2013 & 3 & 1 &  6 &  3 &  3 & 18 & 32 & 500 & 50 & ⋯ & 2.5 & 21.91270 & 6.156213 & 15.240303 & 0.3911585 & 0.02282573 &    NA &       NA &        NA &         NA\\\\\n",
       "\t 2013 & 3 & 1 &  7 &  3 &  6 & 19 & 41 & 500 & 43 & ⋯ & 3.8 & 21.97441 & 6.516526 & 19.581630 & 0.3922601 & 0.01968541 &    NA &       NA & 0.2849237 & 0.03042045\\\\\n",
       "\t 2013 & 3 & 1 &  8 &  3 &  6 & 16 & 43 & 500 & 45 & ⋯ & 4.1 & 22.09260 & 5.517115 & 20.647289 & 0.3943699 & 0.02071181 &    NA &       NA & 0.3045759 & 0.02856948\\\\\n",
       "\t 2013 & 3 & 1 &  9 &  3 &  8 & 12 & 28 & 400 & 59 & ⋯ & 2.6 & 22.17721 & 4.153683 & 13.496235 & 0.3167041 & 0.02725948 &    NA &       NA & 0.3145693 & 0.02754436\\\\\n",
       "\t 2013 & 3 & 1 & 10 &  3 &  6 &  9 & 12 & 400 & 72 & ⋯ & 3.6 & 22.24027 & 3.124121 &  5.800548 & 0.3176047 & 0.03336040 &    NA &       NA & 0.3246839 & 0.02751335\\\\\n",
       "\t 2013 & 3 & 1 & 11 &  3 &  6 &  9 & 14 & 400 & 71 & ⋯ & 3.7 & 22.32111 & 3.135477 &  6.791905 & 0.3187592 & 0.03301664 &    NA &       NA & 0.3350043 & 0.02750552\\\\\n",
       "\t 2013 & 3 & 1 & 12 &  3 &  6 &  7 & 13 & 300 & 74 & ⋯ & 5.1 & 22.42158 & 2.449681 &  6.335157 & 0.2401455 & 0.03456661 &    NA &       NA & 0.3355833 & 0.02770338\\\\\n",
       "\t 2013 & 3 & 1 & 13 &  3 &  6 &  7 & 12 & 400 & 76 & ⋯ & 4.3 & 22.55902 & 2.464697 &  5.883682 & 0.3221566 & 0.03571845 &    NA &       NA & 0.3366448 & 0.02839307\\\\\n",
       "\t 2013 & 3 & 1 & 14 &  6 &  9 &  7 & 11 & 400 & 77 & ⋯ & 4.4 & 22.62233 & 2.471614 &  5.408513 & 0.3230608 & 0.03628999 &    NA &       NA & 0.3281326 & 0.03007610\\\\\n",
       "\t 2013 & 3 & 1 & 15 &  8 & 15 &  7 & 14 & 400 & 76 & ⋯ & 2.8 & 22.64295 & 2.473867 &  6.889836 & 0.3233553 & 0.03585134 &    NA &       NA & 0.3195195 & 0.03209684\\\\\n",
       "\t 2013 & 3 & 1 & 16 &  9 & 19 &  9 & 13 & 400 & 76 & ⋯ & 3.9 & 22.62085 & 3.177581 &  6.391458 & 0.3230396 & 0.03581634 &    NA &       NA & 0.3106032 & 0.03398491\\\\\n",
       "\t 2013 & 3 & 1 & 17 & 10 & 23 & 11 & 15 & 400 & 74 & ⋯ & 2.8 & 22.47583 & 3.858812 &  7.327481 & 0.3209686 & 0.03465023 &    NA &       NA & 0.3111363 & 0.03490875\\\\\n",
       "\t 2013 & 3 & 1 & 18 & 11 & 20 &  8 & 20 & 500 & 70 & ⋯ & 2.1 & 22.35467 & 2.791281 &  9.717311 & 0.3990481 & 0.03260057 &    NA &       NA & 0.3213167 & 0.03481377\\\\\n",
       "\t 2013 & 3 & 1 & 19 &  8 & 14 & 12 & 30 & 500 & 60 & ⋯ & 2.8 & 22.27044 & 4.171145 & 14.521043 & 0.3975444 & 0.02783805 &    NA &       NA & 0.3311649 & 0.03416645\\\\\n",
       "\t 2013 & 3 & 1 & 20 & 11 & 17 & 13 & 33 & 600 & 55 & ⋯ & 2.1 & 22.20466 & 4.505394 & 15.925970 & 0.4756443 & 0.02544284 &    NA &       NA & 0.3606022 & 0.03302598\\\\\n",
       "\t 2013 & 3 & 1 & 21 & 12 & 18 & 16 & 35 & 500 & 50 & ⋯ & 0.8 & 22.09434 & 5.517551 & 16.807259 & 0.3944010 & 0.02301494 &    NA &       NA & 0.3696328 & 0.03143804\\\\\n",
       "\t 2013 & 3 & 1 & 22 & 15 & 19 & 21 & 57 & 700 & 32 & ⋯ & 1.8 & 22.10997 & 7.246906 & 27.391176 & 0.5525518 & 0.01473998 &    NA &       NA & 0.3983191 & 0.02874429\\\\\n",
       "\t 2013 & 3 & 1 & 23 & 24 & 24 & 26 & 54 & 600 & 36 & ⋯ & 1.4 & 22.02123 & 8.936353 & 25.845396 & 0.4717151 & 0.01651593 & 7.125 & 10.75000 & 0.4168641 & 0.02632736\\\\\n",
       "\t 2013 & 3 & 2 &  0 & 22 & 24 & 24 & 44 & 500 & 44 & ⋯ & 1.4 & 21.99443 & 8.238900 & 21.033578 & 0.3926175 & 0.02016156 & 7.875 & 11.58333 & 0.4255614 & 0.02437051\\\\\n",
       "\t 2013 & 3 & 2 &  1 & 14 & 17 & 21 & 36 & 400 & 50 & ⋯ & 1.1 & 21.93967 & 7.191089 & 17.166446 & 0.3133120 & 0.02285382 & 8.125 & 11.95833 & 0.4246043 & 0.02289596\\\\\n",
       "\\end{tabular}\n"
      ],
      "text/markdown": [
       "\n",
       "A tibble: 26 × 25\n",
       "\n",
       "| year &lt;dbl&gt; | month &lt;dbl&gt; | day &lt;dbl&gt; | hour &lt;dbl&gt; | PM2.5 &lt;dbl&gt; | PM10 &lt;dbl&gt; | SO2 &lt;dbl&gt; | NO2 &lt;dbl&gt; | CO &lt;dbl&gt; | O3 &lt;dbl&gt; | ⋯ ⋯ | WSPM &lt;dbl&gt; | volume &lt;dbl&gt; | so2_ppb &lt;dbl&gt; | no2_ppb &lt;dbl&gt; | co_ppm &lt;dbl&gt; | o3_ppm &lt;dbl&gt; | pm2.5_24hour &lt;dbl&gt; | pm10_24hour &lt;dbl&gt; | co_8hour &lt;dbl&gt; | o3_8hour &lt;dbl&gt; |\n",
       "|---|---|---|---|---|---|---|---|---|---|---|---|---|---|---|---|---|---|---|---|---|\n",
       "| 2013 | 3 | 1 |  0 |  4 |  4 |  4 |  7 | 300 | 77 | ⋯ | 4.4 | 22.14205 | 1.382366 |  3.368711 | 0.2371516 | 0.03551954 |    NA |       NA |        NA |         NA |\n",
       "| 2013 | 3 | 1 |  1 |  8 |  8 |  4 |  7 | 300 | 77 | ⋯ | 4.7 | 22.10523 | 1.380067 |  3.363108 | 0.2367572 | 0.03546047 |    NA |       NA |        NA |         NA |\n",
       "| 2013 | 3 | 1 |  2 |  7 |  7 |  5 | 10 | 300 | 73 | ⋯ | 5.6 | 22.09875 | 1.724579 |  4.803032 | 0.2366878 | 0.03360852 |    NA |       NA |        NA |         NA |\n",
       "| 2013 | 3 | 1 |  3 |  6 |  6 | 11 | 11 | 300 | 72 | ⋯ | 3.1 | 22.05284 | 3.786191 |  5.272359 | 0.2361961 | 0.03307926 |    NA |       NA |        NA |         NA |\n",
       "| 2013 | 3 | 1 |  4 |  3 |  3 | 12 | 12 | 300 | 72 | ⋯ | 2.0 | 21.98913 | 4.118458 |  5.735049 | 0.2355137 | 0.03298370 |    NA |       NA |        NA |         NA |\n",
       "| 2013 | 3 | 1 |  5 |  5 |  5 | 18 | 18 | 400 | 66 | ⋯ | 3.7 | 21.96435 | 6.170723 |  8.592876 | 0.3136644 | 0.03020098 |    NA |       NA |        NA |         NA |\n",
       "| 2013 | 3 | 1 |  6 |  3 |  3 | 18 | 32 | 500 | 50 | ⋯ | 2.5 | 21.91270 | 6.156213 | 15.240303 | 0.3911585 | 0.02282573 |    NA |       NA |        NA |         NA |\n",
       "| 2013 | 3 | 1 |  7 |  3 |  6 | 19 | 41 | 500 | 43 | ⋯ | 3.8 | 21.97441 | 6.516526 | 19.581630 | 0.3922601 | 0.01968541 |    NA |       NA | 0.2849237 | 0.03042045 |\n",
       "| 2013 | 3 | 1 |  8 |  3 |  6 | 16 | 43 | 500 | 45 | ⋯ | 4.1 | 22.09260 | 5.517115 | 20.647289 | 0.3943699 | 0.02071181 |    NA |       NA | 0.3045759 | 0.02856948 |\n",
       "| 2013 | 3 | 1 |  9 |  3 |  8 | 12 | 28 | 400 | 59 | ⋯ | 2.6 | 22.17721 | 4.153683 | 13.496235 | 0.3167041 | 0.02725948 |    NA |       NA | 0.3145693 | 0.02754436 |\n",
       "| 2013 | 3 | 1 | 10 |  3 |  6 |  9 | 12 | 400 | 72 | ⋯ | 3.6 | 22.24027 | 3.124121 |  5.800548 | 0.3176047 | 0.03336040 |    NA |       NA | 0.3246839 | 0.02751335 |\n",
       "| 2013 | 3 | 1 | 11 |  3 |  6 |  9 | 14 | 400 | 71 | ⋯ | 3.7 | 22.32111 | 3.135477 |  6.791905 | 0.3187592 | 0.03301664 |    NA |       NA | 0.3350043 | 0.02750552 |\n",
       "| 2013 | 3 | 1 | 12 |  3 |  6 |  7 | 13 | 300 | 74 | ⋯ | 5.1 | 22.42158 | 2.449681 |  6.335157 | 0.2401455 | 0.03456661 |    NA |       NA | 0.3355833 | 0.02770338 |\n",
       "| 2013 | 3 | 1 | 13 |  3 |  6 |  7 | 12 | 400 | 76 | ⋯ | 4.3 | 22.55902 | 2.464697 |  5.883682 | 0.3221566 | 0.03571845 |    NA |       NA | 0.3366448 | 0.02839307 |\n",
       "| 2013 | 3 | 1 | 14 |  6 |  9 |  7 | 11 | 400 | 77 | ⋯ | 4.4 | 22.62233 | 2.471614 |  5.408513 | 0.3230608 | 0.03628999 |    NA |       NA | 0.3281326 | 0.03007610 |\n",
       "| 2013 | 3 | 1 | 15 |  8 | 15 |  7 | 14 | 400 | 76 | ⋯ | 2.8 | 22.64295 | 2.473867 |  6.889836 | 0.3233553 | 0.03585134 |    NA |       NA | 0.3195195 | 0.03209684 |\n",
       "| 2013 | 3 | 1 | 16 |  9 | 19 |  9 | 13 | 400 | 76 | ⋯ | 3.9 | 22.62085 | 3.177581 |  6.391458 | 0.3230396 | 0.03581634 |    NA |       NA | 0.3106032 | 0.03398491 |\n",
       "| 2013 | 3 | 1 | 17 | 10 | 23 | 11 | 15 | 400 | 74 | ⋯ | 2.8 | 22.47583 | 3.858812 |  7.327481 | 0.3209686 | 0.03465023 |    NA |       NA | 0.3111363 | 0.03490875 |\n",
       "| 2013 | 3 | 1 | 18 | 11 | 20 |  8 | 20 | 500 | 70 | ⋯ | 2.1 | 22.35467 | 2.791281 |  9.717311 | 0.3990481 | 0.03260057 |    NA |       NA | 0.3213167 | 0.03481377 |\n",
       "| 2013 | 3 | 1 | 19 |  8 | 14 | 12 | 30 | 500 | 60 | ⋯ | 2.8 | 22.27044 | 4.171145 | 14.521043 | 0.3975444 | 0.02783805 |    NA |       NA | 0.3311649 | 0.03416645 |\n",
       "| 2013 | 3 | 1 | 20 | 11 | 17 | 13 | 33 | 600 | 55 | ⋯ | 2.1 | 22.20466 | 4.505394 | 15.925970 | 0.4756443 | 0.02544284 |    NA |       NA | 0.3606022 | 0.03302598 |\n",
       "| 2013 | 3 | 1 | 21 | 12 | 18 | 16 | 35 | 500 | 50 | ⋯ | 0.8 | 22.09434 | 5.517551 | 16.807259 | 0.3944010 | 0.02301494 |    NA |       NA | 0.3696328 | 0.03143804 |\n",
       "| 2013 | 3 | 1 | 22 | 15 | 19 | 21 | 57 | 700 | 32 | ⋯ | 1.8 | 22.10997 | 7.246906 | 27.391176 | 0.5525518 | 0.01473998 |    NA |       NA | 0.3983191 | 0.02874429 |\n",
       "| 2013 | 3 | 1 | 23 | 24 | 24 | 26 | 54 | 600 | 36 | ⋯ | 1.4 | 22.02123 | 8.936353 | 25.845396 | 0.4717151 | 0.01651593 | 7.125 | 10.75000 | 0.4168641 | 0.02632736 |\n",
       "| 2013 | 3 | 2 |  0 | 22 | 24 | 24 | 44 | 500 | 44 | ⋯ | 1.4 | 21.99443 | 8.238900 | 21.033578 | 0.3926175 | 0.02016156 | 7.875 | 11.58333 | 0.4255614 | 0.02437051 |\n",
       "| 2013 | 3 | 2 |  1 | 14 | 17 | 21 | 36 | 400 | 50 | ⋯ | 1.1 | 21.93967 | 7.191089 | 17.166446 | 0.3133120 | 0.02285382 | 8.125 | 11.95833 | 0.4246043 | 0.02289596 |\n",
       "\n"
      ],
      "text/plain": [
       "   year month day hour PM2.5 PM10 SO2 NO2 CO  O3 ⋯ WSPM volume   so2_ppb \n",
       "1  2013 3     1    0    4     4    4   7  300 77 ⋯ 4.4  22.14205 1.382366\n",
       "2  2013 3     1    1    8     8    4   7  300 77 ⋯ 4.7  22.10523 1.380067\n",
       "3  2013 3     1    2    7     7    5  10  300 73 ⋯ 5.6  22.09875 1.724579\n",
       "4  2013 3     1    3    6     6   11  11  300 72 ⋯ 3.1  22.05284 3.786191\n",
       "5  2013 3     1    4    3     3   12  12  300 72 ⋯ 2.0  21.98913 4.118458\n",
       "6  2013 3     1    5    5     5   18  18  400 66 ⋯ 3.7  21.96435 6.170723\n",
       "7  2013 3     1    6    3     3   18  32  500 50 ⋯ 2.5  21.91270 6.156213\n",
       "8  2013 3     1    7    3     6   19  41  500 43 ⋯ 3.8  21.97441 6.516526\n",
       "9  2013 3     1    8    3     6   16  43  500 45 ⋯ 4.1  22.09260 5.517115\n",
       "10 2013 3     1    9    3     8   12  28  400 59 ⋯ 2.6  22.17721 4.153683\n",
       "11 2013 3     1   10    3     6    9  12  400 72 ⋯ 3.6  22.24027 3.124121\n",
       "12 2013 3     1   11    3     6    9  14  400 71 ⋯ 3.7  22.32111 3.135477\n",
       "13 2013 3     1   12    3     6    7  13  300 74 ⋯ 5.1  22.42158 2.449681\n",
       "14 2013 3     1   13    3     6    7  12  400 76 ⋯ 4.3  22.55902 2.464697\n",
       "15 2013 3     1   14    6     9    7  11  400 77 ⋯ 4.4  22.62233 2.471614\n",
       "16 2013 3     1   15    8    15    7  14  400 76 ⋯ 2.8  22.64295 2.473867\n",
       "17 2013 3     1   16    9    19    9  13  400 76 ⋯ 3.9  22.62085 3.177581\n",
       "18 2013 3     1   17   10    23   11  15  400 74 ⋯ 2.8  22.47583 3.858812\n",
       "19 2013 3     1   18   11    20    8  20  500 70 ⋯ 2.1  22.35467 2.791281\n",
       "20 2013 3     1   19    8    14   12  30  500 60 ⋯ 2.8  22.27044 4.171145\n",
       "21 2013 3     1   20   11    17   13  33  600 55 ⋯ 2.1  22.20466 4.505394\n",
       "22 2013 3     1   21   12    18   16  35  500 50 ⋯ 0.8  22.09434 5.517551\n",
       "23 2013 3     1   22   15    19   21  57  700 32 ⋯ 1.8  22.10997 7.246906\n",
       "24 2013 3     1   23   24    24   26  54  600 36 ⋯ 1.4  22.02123 8.936353\n",
       "25 2013 3     2    0   22    24   24  44  500 44 ⋯ 1.4  21.99443 8.238900\n",
       "26 2013 3     2    1   14    17   21  36  400 50 ⋯ 1.1  21.93967 7.191089\n",
       "   no2_ppb   co_ppm    o3_ppm     pm2.5_24hour pm10_24hour co_8hour  o3_8hour  \n",
       "1   3.368711 0.2371516 0.03551954    NA              NA           NA         NA\n",
       "2   3.363108 0.2367572 0.03546047    NA              NA           NA         NA\n",
       "3   4.803032 0.2366878 0.03360852    NA              NA           NA         NA\n",
       "4   5.272359 0.2361961 0.03307926    NA              NA           NA         NA\n",
       "5   5.735049 0.2355137 0.03298370    NA              NA           NA         NA\n",
       "6   8.592876 0.3136644 0.03020098    NA              NA           NA         NA\n",
       "7  15.240303 0.3911585 0.02282573    NA              NA           NA         NA\n",
       "8  19.581630 0.3922601 0.01968541    NA              NA    0.2849237 0.03042045\n",
       "9  20.647289 0.3943699 0.02071181    NA              NA    0.3045759 0.02856948\n",
       "10 13.496235 0.3167041 0.02725948    NA              NA    0.3145693 0.02754436\n",
       "11  5.800548 0.3176047 0.03336040    NA              NA    0.3246839 0.02751335\n",
       "12  6.791905 0.3187592 0.03301664    NA              NA    0.3350043 0.02750552\n",
       "13  6.335157 0.2401455 0.03456661    NA              NA    0.3355833 0.02770338\n",
       "14  5.883682 0.3221566 0.03571845    NA              NA    0.3366448 0.02839307\n",
       "15  5.408513 0.3230608 0.03628999    NA              NA    0.3281326 0.03007610\n",
       "16  6.889836 0.3233553 0.03585134    NA              NA    0.3195195 0.03209684\n",
       "17  6.391458 0.3230396 0.03581634    NA              NA    0.3106032 0.03398491\n",
       "18  7.327481 0.3209686 0.03465023    NA              NA    0.3111363 0.03490875\n",
       "19  9.717311 0.3990481 0.03260057    NA              NA    0.3213167 0.03481377\n",
       "20 14.521043 0.3975444 0.02783805    NA              NA    0.3311649 0.03416645\n",
       "21 15.925970 0.4756443 0.02544284    NA              NA    0.3606022 0.03302598\n",
       "22 16.807259 0.3944010 0.02301494    NA              NA    0.3696328 0.03143804\n",
       "23 27.391176 0.5525518 0.01473998    NA              NA    0.3983191 0.02874429\n",
       "24 25.845396 0.4717151 0.01651593 7.125        10.75000    0.4168641 0.02632736\n",
       "25 21.033578 0.3926175 0.02016156 7.875        11.58333    0.4255614 0.02437051\n",
       "26 17.166446 0.3133120 0.02285382 8.125        11.95833    0.4246043 0.02289596"
      ]
     },
     "metadata": {},
     "output_type": "display_data"
    }
   ],
   "source": [
    "air_quality_data <- air_quality_data |>\n",
    "    mutate(pm2.5_24hour = zoo::rollmean(PM2.5, k = 24, fill = NA, align = \"right\")) |>\n",
    "    mutate(pm10_24hour = zoo::rollmean(PM10, k = 24, fill = NA, align = \"right\")) |>\n",
    "    mutate(co_8hour = zoo::rollmean(co_ppm, k = 8, fill = NA, align = \"right\")) |>\n",
    "    mutate(o3_8hour = zoo::rollmean(o3_ppm, k = 8, fill = NA, align = \"right\"))  # For o3 specifically, con2aqi allows us to choose 1 or 8 hours.\n",
    "    # We're using 8 hours as the 1-hour window does not allow for reporting of AQI values less than 101.\n",
    "head(air_quality_data, 26)"
   ]
  },
  {
   "cell_type": "markdown",
   "id": "a87d6653-7210-44de-99dd-731f69d97c13",
   "metadata": {
    "tags": []
   },
   "source": [
    "We can finally calculate the AQI values for each of the pollutants."
   ]
  },
  {
   "cell_type": "code",
   "execution_count": null,
   "id": "ca69cd9b-606e-4322-944f-38c97b46420a",
   "metadata": {},
   "outputs": [],
   "source": [
    "air_quality_data <- air_quality_data |>\n",
    "    na.omit() |>  #  We will remove all rows with NA first.\n",
    "    mutate(pm2.5_aqi = con2aqi(pollutant = \"pm25\", con = pm2.5_24hour)) |>\n",
    "    mutate(pm10_aqi = con2aqi(pollutant = \"pm10\", con = pm10_24hour)) |>\n",
    "    mutate(so2_aqi = con2aqi(pollutant = \"so2\", con = so2_ppb)) |>\n",
    "    mutate(no2_aqi = con2aqi(pollutant = \"no2\", con = no2_ppb)) |>\n",
    "    mutate(co_aqi = con2aqi(pollutant = \"co\", con = co_8hour)) |>\n",
    "    mutate(o3_aqi = con2aqi(pollutant = \"o3\", con = o3_8hour, type = \"8h\"))\n",
    "air_quality_data\n",
    "    "
   ]
  },
  {
   "cell_type": "markdown",
   "id": "9a580d3b-7a72-4ae5-906b-322b6f4b1dca",
   "metadata": {},
   "source": [
    "Because AQI is reported daily as the highest of the individual pollutant AQIs, we can obtain one final AQI value per day."
   ]
  },
  {
   "cell_type": "code",
   "execution_count": null,
   "id": "cf875297-68b4-496e-a981-965aee28ad2d",
   "metadata": {
    "tags": []
   },
   "outputs": [],
   "source": [
    "air_quality_data <- air_quality_data |>\n",
    "    select(year, month, day, hour, TEMP, PRES, DEWP, RAIN, WSPM, pm2.5_aqi, pm10_aqi, so2_aqi, no2_aqi, co_aqi, o3_aqi) |>\n",
    "    group_by(year, month, day) |>\n",
    "    summarize(across(TEMP:WSPM, mean), across(pm2.5_aqi:o3_aqi, max)) |>\n",
    "    rowwise()|>\n",
    "    mutate(aqi = round(max(pm2.5_aqi:o3_aqi)))\n",
    "head(air_quality_data, 3)\n",
    "tail(air_quality_data, 3)\n",
    "    "
   ]
  },
  {
   "cell_type": "markdown",
   "id": "a45dbd74-4992-403d-91b8-7fef0a430009",
   "metadata": {},
   "source": [
    "We can visualize this data to gain some insight into how certain predictor variables may be affecting overall AQI."
   ]
  },
  {
   "cell_type": "code",
   "execution_count": null,
   "id": "57a5d190-7223-4472-8ca4-b77c4b6de31d",
   "metadata": {
    "tags": []
   },
   "outputs": [],
   "source": [
    "options(repr.plot.width = 9, repr.plot.height = 6)\n",
    "scaled_data <- air_quality_data |>\n",
    "    group_by(year, month, day) |>\n",
    "    summarize(across(TEMP:aqi, mean)) |>\n",
    "    mutate(across(TEMP:aqi, scale))  # Normalize values to make them easier to compare\n",
    "\n",
    "ggplot(scaled_data, aes(x = TEMP, y = aqi)) +\n",
    "    geom_point(alpha = 0.3) +\n",
    "    labs(x = \"Normalized Temperature\", y = \" Normalized AQI\", title = \"Normalized Temperature vs. Normalized AQI\")\n",
    "ggplot(scaled_data, aes(x = DEWP, y = aqi)) +\n",
    "    geom_point(alpha = 0.3) +\n",
    "    labs(x = \"Normalized Dew Point\", y = \" Normalized AQI\", title = \"Normalized Dew Point vs. Normalized AQI\")\n",
    "ggplot(scaled_data, aes(x = PRES, y = aqi)) +\n",
    "    geom_point(alpha = 0.3) +\n",
    "    labs(x = \"Normalized Air Pressure\", y = \" Normalized AQI\", title = \"Normalized Air Pressure vs. Normalized AQI\")\n",
    "ggplot(scaled_data, aes(x = RAIN, y = aqi)) +\n",
    "    geom_point(alpha = 0.3) +\n",
    "    labs(x = \"Normalized Rain\", y = \" Normalized AQI\", title = \"Normalized Rain vs. Normalized AQI\")\n",
    "ggplot(scaled_data, aes(x = WSPM, y = aqi)) +\n",
    "    geom_point(alpha = 0.3) +\n",
    "    labs(x = \"Normalized Wind Speed\", y = \" Normalized AQI\", title = \"Normalized Wind Speed vs. Normalized AQI\")"
   ]
  },
  {
   "cell_type": "markdown",
   "id": "5d48ecf5-7aa9-463f-9374-6d0e5ee17159",
   "metadata": {},
   "source": [
    "The relationship strength in the graphs above indicates which variables may be more useful in doing AQI predictions in the future."
   ]
  },
  {
   "cell_type": "code",
   "execution_count": null,
   "id": "a0d4c6c2-50ac-450f-8513-e6e13a6b841a",
   "metadata": {},
   "outputs": [],
   "source": []
  }
 ],
 "metadata": {
  "kernelspec": {
   "display_name": "R",
   "language": "R",
   "name": "ir"
  },
  "language_info": {
   "codemirror_mode": "r",
   "file_extension": ".r",
   "mimetype": "text/x-r-source",
   "name": "R",
   "pygments_lexer": "r",
   "version": "4.2.2"
  },
  "widgets": {
   "application/vnd.jupyter.widget-state+json": {
    "state": {},
    "version_major": 2,
    "version_minor": 0
   }
  }
 },
 "nbformat": 4,
 "nbformat_minor": 5
}
