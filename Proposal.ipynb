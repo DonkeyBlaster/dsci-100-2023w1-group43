{
 "cells": [
  {
   "cell_type": "markdown",
   "id": "a6013e8e-6b2a-4f5e-a433-340997210c8f",
   "metadata": {},
   "source": [
    "# Title\n",
    "\n",
    "text text remove this"
   ]
  },
  {
   "cell_type": "markdown",
   "id": "7e9ed2a9-6cee-4381-a408-295ccebbfcd5",
   "metadata": {},
   "source": [
    "## Introduction\n",
    "some introduction here (mention aqhi here)"
   ]
  },
  {
   "cell_type": "markdown",
   "id": "8e5d4d98-3457-4932-9114-3f652b31c5bb",
   "metadata": {},
   "source": [
    "## Preliminary exploratory data analysis\n",
    "hey that's me"
   ]
  },
  {
   "cell_type": "code",
   "execution_count": null,
   "id": "5602087b-a80f-4f2d-983b-7a92edef26e7",
   "metadata": {
    "tags": []
   },
   "outputs": [
    {
     "name": "stderr",
     "output_type": "stream",
     "text": [
      "── \u001b[1mAttaching packages\u001b[22m ─────────────────────────────────────── tidyverse 1.3.2 ──\n",
      "\u001b[32m✔\u001b[39m \u001b[34mggplot2\u001b[39m 3.4.2     \u001b[32m✔\u001b[39m \u001b[34mpurrr  \u001b[39m 1.0.1\n",
      "\u001b[32m✔\u001b[39m \u001b[34mtibble \u001b[39m 3.2.1     \u001b[32m✔\u001b[39m \u001b[34mdplyr  \u001b[39m 1.1.1\n",
      "\u001b[32m✔\u001b[39m \u001b[34mtidyr  \u001b[39m 1.3.0     \u001b[32m✔\u001b[39m \u001b[34mstringr\u001b[39m 1.5.0\n",
      "\u001b[32m✔\u001b[39m \u001b[34mreadr  \u001b[39m 2.1.3     \u001b[32m✔\u001b[39m \u001b[34mforcats\u001b[39m 0.5.2\n",
      "── \u001b[1mConflicts\u001b[22m ────────────────────────────────────────── tidyverse_conflicts() ──\n",
      "\u001b[31m✖\u001b[39m \u001b[34mdplyr\u001b[39m::\u001b[32mfilter()\u001b[39m masks \u001b[34mstats\u001b[39m::filter()\n",
      "\u001b[31m✖\u001b[39m \u001b[34mdplyr\u001b[39m::\u001b[32mlag()\u001b[39m    masks \u001b[34mstats\u001b[39m::lag()\n",
      "── \u001b[1mAttaching packages\u001b[22m ────────────────────────────────────── tidymodels 1.0.0 ──\n",
      "\n",
      "\u001b[32m✔\u001b[39m \u001b[34mbroom       \u001b[39m 1.0.2     \u001b[32m✔\u001b[39m \u001b[34mrsample     \u001b[39m 1.1.1\n",
      "\u001b[32m✔\u001b[39m \u001b[34mdials       \u001b[39m 1.1.0     \u001b[32m✔\u001b[39m \u001b[34mtune        \u001b[39m 1.0.1\n",
      "\u001b[32m✔\u001b[39m \u001b[34minfer       \u001b[39m 1.0.4     \u001b[32m✔\u001b[39m \u001b[34mworkflows   \u001b[39m 1.1.2\n",
      "\u001b[32m✔\u001b[39m \u001b[34mmodeldata   \u001b[39m 1.0.1     \u001b[32m✔\u001b[39m \u001b[34mworkflowsets\u001b[39m 1.0.0\n",
      "\u001b[32m✔\u001b[39m \u001b[34mparsnip     \u001b[39m 1.0.3     \u001b[32m✔\u001b[39m \u001b[34myardstick   \u001b[39m 1.1.0\n",
      "\u001b[32m✔\u001b[39m \u001b[34mrecipes     \u001b[39m 1.0.4     \n",
      "\n",
      "── \u001b[1mConflicts\u001b[22m ───────────────────────────────────────── tidymodels_conflicts() ──\n",
      "\u001b[31m✖\u001b[39m \u001b[34mscales\u001b[39m::\u001b[32mdiscard()\u001b[39m masks \u001b[34mpurrr\u001b[39m::discard()\n",
      "\u001b[31m✖\u001b[39m \u001b[34mdplyr\u001b[39m::\u001b[32mfilter()\u001b[39m   masks \u001b[34mstats\u001b[39m::filter()\n",
      "\u001b[31m✖\u001b[39m \u001b[34mrecipes\u001b[39m::\u001b[32mfixed()\u001b[39m  masks \u001b[34mstringr\u001b[39m::fixed()\n",
      "\u001b[31m✖\u001b[39m \u001b[34mdplyr\u001b[39m::\u001b[32mlag()\u001b[39m      masks \u001b[34mstats\u001b[39m::lag()\n",
      "\u001b[31m✖\u001b[39m \u001b[34myardstick\u001b[39m::\u001b[32mspec()\u001b[39m masks \u001b[34mreadr\u001b[39m::spec()\n",
      "\u001b[31m✖\u001b[39m \u001b[34mrecipes\u001b[39m::\u001b[32mstep()\u001b[39m   masks \u001b[34mstats\u001b[39m::step()\n",
      "\u001b[34m•\u001b[39m Use suppressPackageStartupMessages() to eliminate package startup messages\n",
      "\n"
     ]
    }
   ],
   "source": [
    "# Load libraries, run before everything else\n",
    "library(tidyverse)\n",
    "library(repr)\n",
    "library(tidymodels)\n",
    "install.packages(\"con2aqi\")\n",
    "library(con2aqi)\n",
    "library(zoo) # for moving averages"
   ]
  },
  {
   "cell_type": "code",
   "execution_count": null,
   "id": "f7ec4691-c158-4256-8b12-44b49b0488da",
   "metadata": {},
   "outputs": [],
   "source": [
    "# Get weather + pollution data for the Aotizhongxin station in Beijing\n",
    "download.file(\"https://raw.githubusercontent.com/DonkeyBlaster/dsci-100-2023w1-group43/main/PRSA_Data_Aotizhongxin_20130301-20170228.csv\", \"Aotizhongxin_data.csv\")\n",
    "air_quality_data <- read_csv(\"Aotizhongxin_data.csv\") |>\n",
    "    select(-station) |> # This just says \"Aotizhongxin\", no need to keep it around\n",
    "    select(-No)  # This is a continuously increasing counter, we don't need it either\n",
    "head(air_quality_data, 3)\n",
    "tail(air_quality_data, 3)"
   ]
  },
  {
   "cell_type": "markdown",
   "id": "401a7eea-08d9-4b3d-a2f4-9b0bb1f4dd6c",
   "metadata": {},
   "source": [
    "As shown above by the preview of the data, there are observations for each hour from the start of March 2013 to the end of February  2017. The \"station\" column was dropped as it only said \"Aotizhongxin\". As previously mentioned, we will be calculating AQI for the reporting stations. AQI can be easily calculated with the \"con2aqi\" library. However, there needs to be some pre-processing done before using the library. First, we can check for and remove any N/A values:"
   ]
  },
  {
   "cell_type": "code",
   "execution_count": null,
   "id": "343d7fe7-d0c8-4e1f-93d1-b0d55c0cbb83",
   "metadata": {
    "tags": []
   },
   "outputs": [],
   "source": [
    "air_quality_data <- air_quality_data |> na.omit()"
   ]
  },
  {
   "cell_type": "markdown",
   "id": "264dbf36-1f11-4406-8e41-dc0821b953e7",
   "metadata": {},
   "source": [
    "And additionally, we need to wrangle the pollutant units into ones the library understands. All existing data are in ug/m^3, and the library wants the following units:\n",
    "| PM2.5  | PM10   | SO2 | NO2 | CO  | O3  |\n",
    "|--------|--------|-----|-----|-----|-----|\n",
    "| ug/m^3 | ug/m^3 | ppb | ppb | ppm | ppm |\n",
    "\n",
    "To do this, each pollutant must be calculated separately. First, we calculate the volume of a mole of the given gas at the pressure and temperature on that day. Then, the ppb concentration is that volume multiplied by concentration in ug/m^3 divided by the molecular weight of that molecule. We can do this for SO2 and NO2 now. The same can be done for CO and O3, plus a conversion from ppb to ppm at the end (divide by 1000)."
   ]
  },
  {
   "cell_type": "code",
   "execution_count": null,
   "id": "c9fdaf92-df35-43a5-a59a-39ec71fecbf9",
   "metadata": {
    "tags": []
   },
   "outputs": [],
   "source": [
    "R = 0.082057366080960  # Gas constant for litres, atmospheres, kelvin, mols.\n",
    "SO2_molecular_weight = 64.07  # g/mol\n",
    "NO2_molecular_weight = 46.01  # g/mol\n",
    "CO_molecular_weight = 28.01  # g/mol\n",
    "O3_molecular_weight = 48.00  # g/mol\n",
    "air_quality_data <- air_quality_data |>\n",
    "    mutate(volume = R * (273.2 + TEMP) / (PRES/1013)) |>\n",
    "    mutate(so2_ppb = volume * SO2 / SO2_molecular_weight) |>\n",
    "    mutate(no2_ppb = volume * NO2 / NO2_molecular_weight) |>\n",
    "    mutate(co_ppm = volume * CO / CO_molecular_weight / 1000) |>\n",
    "    mutate(o3_ppm = volume * O3 / O3_molecular_weight / 1000)\n",
    "head(air_quality_data, 3)\n",
    "tail(air_quality_data, 3)"
   ]
  },
  {
   "cell_type": "markdown",
   "id": "28055586-a3b8-4cc7-a980-ce2fbbb22318",
   "metadata": {},
   "source": [
    "Next, we need to calculate certain moving averages for the concentration values, as per [the specification](https://www.airnow.gov/sites/default/files/2020-05/aqi-technical-assistance-document-sept2018.pdf). Each pollutant has a different period for the required moving averages, listed in this table:\n",
    "| PM2.5    | PM10     | SO2      | NO2    | CO      | O3           |\n",
    "|----------|----------|----------|--------|---------|--------------|\n",
    "| 24 hours | 24 hours | 1 hour   | 1 hour | 8 hours | 1 or 8 hours |\n",
    "\n",
    "For O3, the library allows us to specify which period to use. However, we will use 8 hours, as the 1-hour window does not allow for reporting of AQI values less than 101."
   ]
  },
  {
   "cell_type": "code",
   "execution_count": null,
   "id": "c74722ba-6a33-4b95-852f-f67785dd2ce7",
   "metadata": {
    "tags": []
   },
   "outputs": [],
   "source": [
    "air_quality_data <- air_quality_data |>\n",
    "    mutate(pm2.5_24hour = zoo::rollmean(PM2.5, k = 24, fill = NA, align = \"right\")) |>\n",
    "    mutate(pm10_24hour = zoo::rollmean(PM10, k = 24, fill = NA, align = \"right\")) |>\n",
    "    mutate(co_8hour = zoo::rollmean(co_ppm, k = 8, fill = NA, align = \"right\")) |>\n",
    "    mutate(o3_8hour = zoo::rollmean(o3_ppm, k = 8, fill = NA, align = \"right\"))\n",
    "head(air_quality_data, 26)"
   ]
  },
  {
   "cell_type": "markdown",
   "id": "a87d6653-7210-44de-99dd-731f69d97c13",
   "metadata": {
    "tags": []
   },
   "source": [
    "We can finally calculate the AQI values for each of the pollutants. We will remove all rows with NA first."
   ]
  },
  {
   "cell_type": "code",
   "execution_count": null,
   "id": "ca69cd9b-606e-4322-944f-38c97b46420a",
   "metadata": {},
   "outputs": [],
   "source": [
    "air_quality_data <- air_quality_data |>\n",
    "    na.omit() |>\n",
    "    mutate(pm2.5_aqi = con2aqi(pollutant = \"pm25\", con = pm2.5_24hour)) |>\n",
    "    mutate(pm10_aqi = con2aqi(pollutant = \"pm10\", con = pm10_24hour)) |>\n",
    "    mutate(so2_aqi = con2aqi(pollutant = \"so2\", con = so2_ppb)) |>\n",
    "    mutate(no2_aqi = con2aqi(pollutant = \"no2\", con = no2_ppb)) |>\n",
    "    mutate(co_aqi = con2aqi(pollutant = \"co\", con = co_8hour)) |>\n",
    "    mutate(o3_aqi = con2aqi(pollutant = \"o3\", con = o3_8hour, type = \"8h\"))\n",
    "air_quality_data\n",
    "    "
   ]
  },
  {
   "cell_type": "code",
   "execution_count": null,
   "id": "6179ce1e-606c-4c4b-86a8-5afa059dad2f",
   "metadata": {
    "tags": []
   },
   "outputs": [],
   "source": [
    "colnames(air_quality_data)"
   ]
  },
  {
   "cell_type": "markdown",
   "id": "9a580d3b-7a72-4ae5-906b-322b6f4b1dca",
   "metadata": {},
   "source": [
    "Because AQI is reported daily as the highest of the individual pollutant AQIs, we can obtain one final AQI value per day."
   ]
  },
  {
   "cell_type": "code",
   "execution_count": null,
   "id": "cf875297-68b4-496e-a981-965aee28ad2d",
   "metadata": {
    "tags": []
   },
   "outputs": [],
   "source": [
    "air_quality_data <- air_quality_data |>\n",
    "    select(year, month, day, hour, TEMP, PRES, DEWP, RAIN, WSPM, pm2.5_aqi, pm10_aqi, so2_aqi, no2_aqi, co_aqi, o3_aqi) |>\n",
    "    group_by(year, month, day) |>\n",
    "    summarize(across(TEMP:WSPM, mean), across(pm2.5_aqi:o3_aqi, max)) |>\n",
    "    rowwise()|>\n",
    "    mutate(aqi = round(max(pm2.5_aqi:o3_aqi)))\n",
    "head(air_quality_data, 3)\n",
    "tail(air_quality_data, 3)\n",
    "    "
   ]
  },
  {
   "cell_type": "markdown",
   "id": "a45dbd74-4992-403d-91b8-7fef0a430009",
   "metadata": {},
   "source": [
    "We can visualize this data to gain some insight into how certain predictor variables may be affecting overall AQI. As we don't need extremely fine details, we can go by average monthly values. We will also normalize all values to make them easier to compare."
   ]
  },
  {
   "cell_type": "code",
   "execution_count": null,
   "id": "57a5d190-7223-4472-8ca4-b77c4b6de31d",
   "metadata": {
    "tags": []
   },
   "outputs": [],
   "source": [
    "options(repr.plot.width = 9, repr.plot.height = 6)\n",
    "scaled_data <- air_quality_data |>\n",
    "    group_by(year, month, day) |>\n",
    "    summarize(across(TEMP:aqi, mean)) |>\n",
    "    mutate(across(TEMP:aqi, scale))\n",
    "\n",
    "ggplot(scaled_data, aes(x = TEMP, y = aqi)) +\n",
    "    geom_point(alpha = 0.3) +\n",
    "    labs(x = \"Normalized Temperature\", y = \" Normalized AQI\", title = \"Normalized Temperature vs. Normalized AQI\")\n",
    "ggplot(scaled_data, aes(x = DEWP, y = aqi)) +\n",
    "    geom_point(alpha = 0.3) +\n",
    "    labs(x = \"Normalized Dew Point\", y = \" Normalized AQI\", title = \"Normalized Dew Point vs. Normalized AQI\")\n",
    "ggplot(scaled_data, aes(x = PRES, y = aqi)) +\n",
    "    geom_point(alpha = 0.3) +\n",
    "    labs(x = \"Normalized Air Pressure\", y = \" Normalized AQI\", title = \"Normalized Air Pressure vs. Normalized AQI\")\n",
    "ggplot(scaled_data, aes(x = RAIN, y = aqi)) +\n",
    "    geom_point(alpha = 0.3) +\n",
    "    labs(x = \"Normalized Rain\", y = \" Normalized AQI\", title = \"Normalized Rain vs. Normalized AQI\")\n",
    "ggplot(scaled_data, aes(x = WSPM, y = aqi)) +\n",
    "    geom_point(alpha = 0.3) +\n",
    "    labs(x = \"Normalized Wind Speed\", y = \" Normalized AQI\", title = \"Normalized Wind Speed vs. Normalized AQI\")"
   ]
  },
  {
   "cell_type": "markdown",
   "id": "5d48ecf5-7aa9-463f-9374-6d0e5ee17159",
   "metadata": {},
   "source": [
    "As shown in the graphs above, there is a weak positive relationship between AQI and temperature, a stronger positive relationship between AQI and dew point, a very weak negative relationship between AQI and air pressure, no relationship between AQI and rain, and no relationship between AQI and wind speed. This indicates which variables may be more useful in doing AQI predictions in the future."
   ]
  },
  {
   "cell_type": "code",
   "execution_count": null,
   "id": "a0d4c6c2-50ac-450f-8513-e6e13a6b841a",
   "metadata": {},
   "outputs": [],
   "source": []
  }
 ],
 "metadata": {
  "kernelspec": {
   "display_name": "R",
   "language": "R",
   "name": "ir"
  },
  "language_info": {
   "codemirror_mode": "r",
   "file_extension": ".r",
   "mimetype": "text/x-r-source",
   "name": "R",
   "pygments_lexer": "r",
   "version": "4.2.2"
  },
  "widgets": {
   "application/vnd.jupyter.widget-state+json": {
    "state": {},
    "version_major": 2,
    "version_minor": 0
   }
  }
 },
 "nbformat": 4,
 "nbformat_minor": 5
}
