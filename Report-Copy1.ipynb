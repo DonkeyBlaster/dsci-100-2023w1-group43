{
 "cells": [
  {
   "cell_type": "markdown",
   "id": "a6013e8e-6b2a-4f5e-a433-340997210c8f",
   "metadata": {},
   "source": [
    "# Multivariate linear regression: Predicting the AQI (air quality index) using weather and pollution data for Aoti Zhongxin station - Beijing."
   ]
  },
  {
   "cell_type": "markdown",
   "id": "7e9ed2a9-6cee-4381-a408-295ccebbfcd5",
   "metadata": {},
   "source": [
    "## Introduction\n",
    "This data set includes air pollutants data from Aoti Zhongxin station(Beijing) taken from the Beijing Municipal Environmental Monitoring Center. Variables in this dataset include: time, measured concentrations of various pollutants, temperature, pressure, dew point, precipitation and wind information. The time period is: March 1st, 2013 - February 28th, 2017.  \n",
    "AQI is a measurement for air quality that indicates how polluted the air currently is. It is calculated using the pollution levels of O3, PM2.5, PM10, CO, SO2 and NO2.  \n",
    "We will use a multivariate linear regression model to answer the question \"How do the chosen weather variables affect AQI in Beijing?\"."
   ]
  },
  {
   "cell_type": "markdown",
   "id": "8e5d4d98-3457-4932-9114-3f652b31c5bb",
   "metadata": {},
   "source": [
    "## Methods & Results"
   ]
  },
  {
   "cell_type": "code",
   "execution_count": null,
   "id": "5602087b-a80f-4f2d-983b-7a92edef26e7",
   "metadata": {
    "tags": []
   },
   "outputs": [],
   "source": [
    "# Load libraries, run before everything else\n",
    "library(tidyverse)\n",
    "library(repr)\n",
    "library(tidymodels)\n",
    "install.packages(\"con2aqi\")\n",
    "library(con2aqi)\n",
    "library(zoo) # for moving averages\n",
    "install.packages(\"GGally\")\n",
    "library(GGally)\n",
    "options(jupyter.plot_mimetypes = \"image/png\")  # Added by TA; we ran into 100mb file size limit problems"
   ]
  },
  {
   "cell_type": "code",
   "execution_count": null,
   "id": "f7ec4691-c158-4256-8b12-44b49b0488da",
   "metadata": {
    "tags": []
   },
   "outputs": [],
   "source": [
    "# Get weather + pollution data for the Aotizhongxin station in Beijing\n",
    "download.file(\"https://raw.githubusercontent.com/DonkeyBlaster/dsci-100-2023w1-group43/main/PRSA_Data_Aotizhongxin_20130301-20170228.csv\", \"Aotizhongxin_data.csv\")\n",
    "air_quality_data <- read_csv(\"Aotizhongxin_data.csv\") |>\n",
    "    select(-station) |> # This just says \"Aotizhongxin\", no need to keep it around\n",
    "    select(-No) # This is a continuously increasing counter, we don't need it either\n",
    "head(air_quality_data, 3)\n",
    "tail(air_quality_data, 3)"
   ]
  },
  {
   "cell_type": "markdown",
   "id": "401a7eea-08d9-4b3d-a2f4-9b0bb1f4dd6c",
   "metadata": {},
   "source": [
    "AQI can be easily calculated with the \"con2aqi\" library (after wrangling). First, we remove any N/A values:"
   ]
  },
  {
   "cell_type": "code",
   "execution_count": null,
   "id": "343d7fe7-d0c8-4e1f-93d1-b0d55c0cbb83",
   "metadata": {
    "tags": []
   },
   "outputs": [],
   "source": [
    "air_quality_data <- air_quality_data |> \n",
    "    na.omit() |> # AQI cannot be calculated with NA values\\\n",
    "    select(-wd) |>  # We don't know how to use this properly\n",
    "    filter(year >= 2015, year <= 2016)  # We only want 2015-2016, measuring changed in 2014 and 2017 data is incomplete"
   ]
  },
  {
   "cell_type": "markdown",
   "id": "aa3d47b3-7f7e-411e-8bf3-2afff77407de",
   "metadata": {},
   "source": [
    "# TODO: Explain why we are using 2015-2016 only, why we're removing wind direction, then remove the comments from my code"
   ]
  },
  {
   "cell_type": "markdown",
   "id": "264dbf36-1f11-4406-8e41-dc0821b953e7",
   "metadata": {},
   "source": [
    "Additionally, we need to wrangle the pollutant units into ones the library understands. Existing data are in ug/m^3, and the library wants the following units:\n",
    "| PM2.5  | PM10   | SO2 | NO2 | CO  | O3  |\n",
    "|--------|--------|-----|-----|-----|-----|\n",
    "| ug/m^3 | ug/m^3 | ppb | ppb | ppm | ppm |"
   ]
  },
  {
   "cell_type": "code",
   "execution_count": null,
   "id": "c9fdaf92-df35-43a5-a59a-39ec71fecbf9",
   "metadata": {
    "tags": []
   },
   "outputs": [],
   "source": [
    "R = 0.082057366080960  # Gas constant for litres, atmospheres, kelvin, mols.\n",
    "SO2_molecular_weight = 64.07  # g/mol\n",
    "NO2_molecular_weight = 46.01  # g/mol\n",
    "CO_molecular_weight = 28.01  # g/mol\n",
    "O3_molecular_weight = 48.00  # g/mol\n",
    "air_quality_data <- air_quality_data |>\n",
    "    # PV = nRT formula rearranged to V = RT/P, n=1.\n",
    "    mutate(volume = R * (273.2 + TEMP) / (PRES/1013)) |>   # Convert temp to Kelvin, pressure to atmospheres\n",
    "    mutate(so2_ppb = volume * SO2 / SO2_molecular_weight) |>\n",
    "    mutate(no2_ppb = volume * NO2 / NO2_molecular_weight) |>\n",
    "    # Multiply by div by 1000 for ppb -> ppm\n",
    "    mutate(co_ppm = volume * CO / CO_molecular_weight / 1000) |>\n",
    "    mutate(o3_ppm = volume * O3 / O3_molecular_weight / 1000)\n",
    "head(air_quality_data, 3)\n",
    "tail(air_quality_data, 3)"
   ]
  },
  {
   "cell_type": "markdown",
   "id": "28055586-a3b8-4cc7-a980-ce2fbbb22318",
   "metadata": {},
   "source": [
    "Next, we need to calculate moving averages for the concentrations, as per [the specification](https://www.airnow.gov/sites/default/files/2020-05/aqi-technical-assistance-document-sept2018.pdf). Each pollutant has a different period required, shown below:\n",
    "| PM2.5    | PM10     | SO2      | NO2    | CO      | O3           |\n",
    "|----------|----------|----------|--------|---------|--------------|\n",
    "| 24 hours | 24 hours | 1 hour   | 1 hour | 8 hours | 1 or 8 hours |\n"
   ]
  },
  {
   "cell_type": "code",
   "execution_count": null,
   "id": "c74722ba-6a33-4b95-852f-f67785dd2ce7",
   "metadata": {
    "tags": []
   },
   "outputs": [],
   "source": [
    "air_quality_data <- air_quality_data |>\n",
    "    mutate(pm2.5_24hour = zoo::rollmean(PM2.5, k = 24, fill = NA, align = \"right\")) |>\n",
    "    mutate(pm10_24hour = zoo::rollmean(PM10, k = 24, fill = NA, align = \"right\")) |>\n",
    "    mutate(co_8hour = zoo::rollmean(co_ppm, k = 8, fill = NA, align = \"right\")) |>\n",
    "    mutate(o3_8hour = zoo::rollmean(o3_ppm, k = 8, fill = NA, align = \"right\"))  # For o3 specifically, con2aqi allows us to choose 1 or 8 hours.\n",
    "    # We're using 8 hours as the 1-hour window does not allow for reporting of AQI values less than 101.\n",
    "head(air_quality_data, 26)"
   ]
  },
  {
   "cell_type": "markdown",
   "id": "a87d6653-7210-44de-99dd-731f69d97c13",
   "metadata": {
    "tags": []
   },
   "source": [
    "Finally, we calculate AQI for each pollutant."
   ]
  },
  {
   "cell_type": "code",
   "execution_count": null,
   "id": "ca69cd9b-606e-4322-944f-38c97b46420a",
   "metadata": {
    "tags": []
   },
   "outputs": [],
   "source": [
    "# This cell takes a while.\n",
    "air_quality_data <- air_quality_data |>\n",
    "    na.omit() |>  #  We will remove all rows with NA first.\n",
    "    mutate(pm2.5_aqi = con2aqi(pollutant = \"pm25\", con = pm2.5_24hour)) |>\n",
    "    mutate(pm10_aqi = con2aqi(pollutant = \"pm10\", con = pm10_24hour)) |>\n",
    "    mutate(so2_aqi = con2aqi(pollutant = \"so2\", con = so2_ppb)) |>\n",
    "    mutate(no2_aqi = con2aqi(pollutant = \"no2\", con = no2_ppb)) |>\n",
    "    mutate(co_aqi = con2aqi(pollutant = \"co\", con = co_8hour)) |>\n",
    "    mutate(o3_aqi = con2aqi(pollutant = \"o3\", con = o3_8hour, type = \"8h\"))\n",
    "air_quality_data"
   ]
  },
  {
   "cell_type": "markdown",
   "id": "9a580d3b-7a72-4ae5-906b-322b6f4b1dca",
   "metadata": {},
   "source": [
    "Because AQI is reported daily as the highest of the individual pollutant AQIs, we can obtain one final AQI value per day."
   ]
  },
  {
   "cell_type": "code",
   "execution_count": null,
   "id": "cf875297-68b4-496e-a981-965aee28ad2d",
   "metadata": {
    "tags": []
   },
   "outputs": [],
   "source": [
    "air_quality_data <- air_quality_data |>\n",
    "    rowwise() |>  # This is required for the max function to read row-by-row\n",
    "    mutate(aqi = max(pm2.5_aqi:o3_aqi)) |>\n",
    "    mutate(pollutant = )\n",
    "head(air_quality_data, 3)\n",
    "tail(air_quality_data, 3)\n",
    "# Do not modify air_quality_data from this point onwards! It contains all original and calculated information. Duplicate frame if other modifications are needed."
   ]
  },
  {
   "cell_type": "code",
   "execution_count": null,
   "id": "bec488ba-1f35-43d3-96da-52865b184c18",
   "metadata": {
    "tags": []
   },
   "outputs": [],
   "source": [
    "# Retrieve training and testing splits\n",
    "aqd_split <- initial_split(air_quality_data, prop = 0.75, strata = aqi)\n",
    "aqd_train <- training(aqd_split)\n",
    "aqd_test <- testing(aqd_split)\n",
    "head(aqd_train, 4)"
   ]
  },
  {
   "cell_type": "code",
   "execution_count": null,
   "id": "6377fb2b-1560-4b5b-a4ac-7bd81b886be5",
   "metadata": {
    "tags": []
   },
   "outputs": [],
   "source": [
    "colnames(aqd_train)"
   ]
  },
  {
   "cell_type": "markdown",
   "id": "cb324ef6-1b80-4e41-bbf2-eec52a169a13",
   "metadata": {},
   "source": [
    "# TODO: We're going to do the pair plot analysis here to determine which variables are useful. Someone please fill details"
   ]
  },
  {
   "cell_type": "code",
   "execution_count": null,
   "id": "d5a160c6-e0c8-44d7-b9dc-513f16e4a479",
   "metadata": {
    "tags": []
   },
   "outputs": [],
   "source": [
    "options(repr.plot.width = 12, repr.plot.height = 12)\n",
    "aqd_pairplot <- aqd_train |>\n",
    "    select(TEMP:WSPM, aqi) |>\n",
    "    na.omit() |>\n",
    "    scale() |>\n",
    "    as.data.frame()\n",
    "\n",
    "head(aqd_pairplot, 6)\n",
    "\n",
    "ggpairs(aqd_pairplot,\n",
    "        lower = list(continuous = wrap('points', alpha = 0.1)),\n",
    "        diag = list(continuous = \"barDiag\")\n",
    "    ) +\n",
    "    theme(text = element_text(size = 20))"
   ]
  },
  {
   "cell_type": "markdown",
   "id": "e6dd71f3-4dc7-4a9d-9e1b-9fc635bac41a",
   "metadata": {},
   "source": [
    "# TODO: it is clear that TEMP and DEWP are very closely related, blah blah blah, we only pick one of them, so we have PRES DEWP WSPM, rain looks pretty terrible, blah blah, and so on"
   ]
  },
  {
   "cell_type": "markdown",
   "id": "c32fe96c-5aa9-45e8-afd1-3d542e6a500c",
   "metadata": {},
   "source": [
    "# TODO: but also it looks like none of them are particularly correlated with aqi, blah blah, what if we did just one pollutant individually? let's try a couple (totally not rigged ones that we picked)"
   ]
  },
  {
   "cell_type": "code",
   "execution_count": null,
   "id": "97cc35fb-5e00-45fe-9b2f-be6c5ae8a6ac",
   "metadata": {
    "tags": []
   },
   "outputs": [],
   "source": [
    "aqd_pairplot <- aqd_train |>\n",
    "    select(TEMP:WSPM, pm2.5_aqi, o3_aqi) |>\n",
    "    na.omit() |>\n",
    "    scale() |>\n",
    "    as.data.frame()\n",
    "ggpairs(aqd_pairplot,\n",
    "        lower = list(continuous = wrap('points', alpha = 0.1)),\n",
    "        diag = list(continuous = \"barDiag\")\n",
    "    ) +\n",
    "    theme(text = element_text(size = 20))"
   ]
  },
  {
   "cell_type": "markdown",
   "id": "cfd45f47-c3ff-43c9-b735-b9c08cc1cc3a",
   "metadata": {},
   "source": [
    "# TODO: clearly some pollutants are easier to predict (o3) and some are harder (pm2.5), what if we predicted individual pollutants to get an overall aqi value from that, etc (maybe move this to improvements?)"
   ]
  },
  {
   "cell_type": "markdown",
   "id": "c054f117-b833-4b0b-a0cc-85c34c5787e8",
   "metadata": {},
   "source": [
    "# TODO: let's do the linear regression with PRES and DEWP, predicting overall aqi now. We still have aqd_train and aqd_test, add details here"
   ]
  },
  {
   "cell_type": "code",
   "execution_count": null,
   "id": "63ae6f2a-600a-4599-9974-d2fff42b6941",
   "metadata": {
    "tags": []
   },
   "outputs": [],
   "source": [
    "lm_spec <- linear_reg () |>\n",
    "    set_engine(\"lm\") |>\n",
    "    set_mode(\"regression\")\n",
    "aqi_recipe <- recipe(aqi ~ PRES + DEWP, data = aqd_train)\n",
    "aqi_fit <- workflow() |>\n",
    "    add_model(lm_spec) |>\n",
    "    add_recipe(aqi_recipe) |>\n",
    "    fit(data = aqd_train)"
   ]
  },
  {
   "cell_type": "markdown",
   "id": "a4112fd7-6eed-4792-87b5-4187598e2919",
   "metadata": {},
   "source": [
    "# TODO: now we evaluate accuracy of model (it's pretty bad)"
   ]
  },
  {
   "cell_type": "code",
   "execution_count": null,
   "id": "27570d84-be24-4b65-99a9-c945217fe4bd",
   "metadata": {
    "tags": []
   },
   "outputs": [],
   "source": [
    "aqi_rmspe <- aqi_fit |>\n",
    "    predict(aqd_test) |>\n",
    "    bind_cols(aqd_test) |>\n",
    "    metrics(truth = aqi, estimate = .pred) |>\n",
    "    filter(.metric == \"rmse\") |>\n",
    "    select(.estimate) |>\n",
    "    pull()\n",
    "aqi_rmspe"
   ]
  },
  {
   "cell_type": "markdown",
   "id": "992745bf-a9da-4388-8de8-68cc8f941d88",
   "metadata": {},
   "source": [
    "# TODO: This model is pretty terrible, RMSPE (measuring accuracy against never-seen-before data) is 69.1. Each aqi classification bracket is only 50"
   ]
  },
  {
   "cell_type": "markdown",
   "id": "97c86880-4cd9-4c01-93d0-17fffe19cf0b",
   "metadata": {},
   "source": [
    "# TODO: What if we did it on the one pollutant that looks decent? (o3)"
   ]
  },
  {
   "cell_type": "code",
   "execution_count": null,
   "id": "229616e2-7ef3-4469-b1da-4e267e3fc96d",
   "metadata": {
    "tags": []
   },
   "outputs": [],
   "source": [
    "o3_recipe <- recipe(o3_aqi ~ PRES + DEWP, data = aqd_train)\n",
    "o3_fit <- workflow() |>\n",
    "    add_model(lm_spec) |>\n",
    "    add_recipe(o3_recipe) |>\n",
    "    fit(data = aqd_train)\n",
    "o3_rmspe <- o3_fit |>\n",
    "    predict(aqd_test) |>\n",
    "    bind_cols(aqd_test) |>\n",
    "    metrics(truth = o3_aqi, estimate = .pred) |>\n",
    "    filter(.metric == \"rmse\") |>\n",
    "    select(.estimate) |>\n",
    "    pull()\n",
    "o3_rmspe"
   ]
  },
  {
   "cell_type": "markdown",
   "id": "2848f989-c6a5-4f06-be6f-1b8773075153",
   "metadata": {},
   "source": [
    "# TODO: This is pretty good, within the 50-aqi bracket"
   ]
  },
  {
   "cell_type": "markdown",
   "id": "698249b1-4920-4bbe-8c56-80de5d8f3797",
   "metadata": {},
   "source": [
    "## Method\n",
    "We will carry out a multivariate linear regression analysis on our data, to predict AQI based on weather conditions. We chose this method because:\n",
    "* Knn would be very slow for such a large dataset\n",
    "* We can have more confidence in our model for predictions where weather conditions are slightly beyond the range of inputs (more extreme weather)\n",
    "* The regression equation shows a mathematical relationship – quantifies the relative contribution of each predictor    \n",
    "\n",
    "Before creating our model, we will consider each variable, and their relationships, as follows:\n",
    "* Wind direction is given in the dataset, but disregarded as it is not numerical \n",
    "* The dataset is large - any outliers are not likely to strongly affect our results\n",
    "* We will assess the relationships between our weather variables (by producing pairwise scatter plots), to identify correlations between them and avoid multicollinearity.\n",
    "\n"
   ]
  },
  {
   "cell_type": "markdown",
   "id": "307efdb7-7f4a-4411-b7c3-ad28c2459394",
   "metadata": {},
   "source": [
    "## Expected Outcomes and Significance\n",
    "\n",
    "- Compared to **AQI**, based on our research, we expect:\n",
    "    - Positive correlations with:\n",
    "        - **Pressure** - higher pressures will stagnate air, causing pollutants to accumulate\n",
    "    - Negative correlations with:\n",
    "        - **Wind speed** - faster winds disperse pollutants, lowering concentrations\n",
    "        - **Temperature** - higher ground temperature causes hot air to rise, reducing atmospheric pressure\n",
    "        - **Precipitation** - this traps pollutants as they descend\n",
    "        - **Dew point** - higher dew points form more water droplets, which traps pollutants\n",
    "- Impacts:\n",
    "    - Bad air quality contributes to thousands of hospital visits and premature deaths a year, with the related consequences totaling to an economic value of $120bn dollars a year. Thus, these findings could allow individuals to take preventative measures against pollution to protect their health.\n",
    "- Future research:\n",
    "  - We could use location-based predictors such as wind direction and topography to ask the question “How is AQI affected by location?”.\n",
    "  - Additionally, we could ask “How is AQI affected by transportation and energy?” to investigate whether lifestyle contributes to pollution.\n"
   ]
  },
  {
   "cell_type": "markdown",
   "id": "07a5b41e-f5a9-4e23-b67c-5dfe14e07443",
   "metadata": {},
   "source": [
    "Word count: 517"
   ]
  },
  {
   "cell_type": "markdown",
   "id": "27a3e134-1690-4984-b42f-dad1e5e22e27",
   "metadata": {},
   "source": [
    "### References\n",
    "\n",
    "“Air pollution – How to convert between mg/m3, µg/m3 and ppm, ppb.” Breeze Technologies, 20 Aug.\n",
    "2021,https://www.breeze-technologies.de/blog/air-pollution-how-to-convert-between-mgm3-%C2%B5gm3-ppm-ppb/. \n",
    "Accessed 28 Oct. 2023.\n",
    "\n",
    "\n",
    "Feng, Xinyuan and Shigong Wang, “Influence of different weather events on concentrations of \n",
    "particulate matter with different sizes in Lanzhou, China.”Journal of Environmental\n",
    "Sciences, Vol. 24, no. 4, 2012, pp. 665-674. https://doi.org/10.1016/S1001-0742(11)60807-3.\n",
    "\n",
    "\n",
    "“Health impacts from air pollution.” Government of Canada, 2 June 2023, https://www.canada.ca/en/environment-climate-change/campaigns/canadian-environment-week/clean-air-day/health-impacts-air-pollution.html.  Accessed 28 Oct. 2023.\n",
    "\n",
    "\n",
    "“How the weather affects air quality.” Government of Canada, 26 Jan. 2023,\n",
    "https://www.canada.ca/en/environment-climate-change/services/air-quality-health-index/weather.html. \n",
    "Accessed 28 Oct. 2023.\n",
    "\n",
    "\n",
    "Kumari, Shweta, and Manish Kumar Jane. (2018). “A Critical Review on Air Quality Index.” Water \n",
    "Science and Technology Library, vol. 77. Springer, Singapore. https://doi.org/10.1007/978-981-10-5792-2_8.\n",
    "\n",
    "\n",
    "Liu, Yansui, Yang Zhou, and Jiaxin Lu. “Exploring the relationship between air pollution and\n",
    "meteorological conditions in China under environmental governance.” Scientific Reports, vol.\n",
    "10, no. 1, 2020, pp. 1-14. https://www.nature.com/articles/s41598-020-71338-7.\n",
    "doi: 10.1038/s41598-020-71338-7.\n",
    "\n",
    "\n",
    "Technical Assistance Document for the Reporting of Daily Air Quality – the Air Quality Index\n",
    "(AQI). USEPA, 2018. https://www.airnow.gov/sites/default/files/2020-05/aqi-technical-assistance-document-sept2018.pdf.\n",
    "\n",
    "\n",
    "Xu, Yingying and Xinyue Zhu, \"Recognizing Dew as an Indicator and an Improver of Near-Surface Air\n",
    "Quality\", Advances in Meteorology, vol. 2017, 2017. https://doi.org/10.1155/2017/3514743.\n",
    "\n"
   ]
  },
  {
   "cell_type": "code",
   "execution_count": null,
   "id": "339d4042-110d-464f-b304-c9aac2614560",
   "metadata": {},
   "outputs": [],
   "source": []
  }
 ],
 "metadata": {
  "kernelspec": {
   "display_name": "R",
   "language": "R",
   "name": "ir"
  },
  "language_info": {
   "codemirror_mode": "r",
   "file_extension": ".r",
   "mimetype": "text/x-r-source",
   "name": "R",
   "pygments_lexer": "r",
   "version": "4.2.2"
  },
  "widgets": {
   "application/vnd.jupyter.widget-state+json": {
    "state": {},
    "version_major": 2,
    "version_minor": 0
   }
  }
 },
 "nbformat": 4,
 "nbformat_minor": 5
}
